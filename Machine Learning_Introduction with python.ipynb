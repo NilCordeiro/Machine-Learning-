{
 "cells": [
  {
   "cell_type": "markdown",
   "metadata": {},
   "source": [
    "# Introduction to Machine Learning\n",
    "with Python\n",
    "A Guide for Data Scientists"
   ]
  },
  {
   "cell_type": "markdown",
   "metadata": {},
   "source": [
    "Aprendizado de máquina é sobre extrair conhecimento de dados. É um campo de pesquisa no\n",
    "interseção de estatísticas, inteligência artificial e ciência da computação e também é\n",
    "conhecido como análise preditiva ou aprendizagem estatística. A aplicação da máquina\n",
    "Nos últimos anos, os métodos de aprendizagem tornaram-se onipresentes na vida cotidiana. De automático\n",
    "recomendações de quais filmes assistir, a que comida pedir ou quais\n",
    "produtos para comprar, para uma rádio on-line personalizada e para reconhecer seus amigos\n",
    "fotos, muitos sites e dispositivos modernos têm algoritmos de aprendizado de máquina em suas\n",
    "testemunho. Quando você olha para um site complexo como Facebook, Amazon ou Netflix, é\n",
    "É muito provável que cada parte do site contenha vários modelos de aprendizado de máquina.\n",
    "Fora das aplicações comerciais, o aprendizado de máquina teve uma tremenda influência\n",
    "sobre a forma como a pesquisa conduzida por dados é feita hoje. As ferramentas introduzidas neste livro\n",
    "foram aplicados a diversos problemas científicos, como a compreensão de estrelas,\n",
    "planetas distantes, descobrindo novas partículas, analisando sequências de DNA e fornecendo\n",
    "tratamentos de câncer personalizados.\n",
    "Seu aplicativo não precisa ser tão grande ou mudar o mundo como esses exemplos\n",
    "para se beneficiar do aprendizado de máquina, no entanto. Neste capítulo, vamos\n",
    "explicar por que o aprendizado de máquina se tornou tão popular e discute que tipos de\n",
    "os problemas podem ser resolvidos usando o aprendizado de máquina. Então, vamos mostrar como construir\n",
    "seu primeiro modelo de aprendizado de máquina, introduzindo conceitos importantes ao longo do caminho."
   ]
  },
  {
   "cell_type": "markdown",
   "metadata": {},
   "source": [
    "# Por que aprendizado de maquina\n",
    "Nos primeiros dias de aplicações “inteligentes”, muitos sistemas usavam regras codificadas\n",
    "Decisões “if” e “else” para processar dados ou ajustar a entrada do usuário. Pense em um filtro de spam\n",
    "cujo trabalho é mover as mensagens de e-mail recebidas apropriadas para uma pasta de spam. Você\n",
    "poderia criar uma lista negra de palavras que resultaria em um e-mail sendo marcado como\n",
    "\n",
    "Spam. Este seria um exemplo do uso de um sistema de regras projetado por especialistas para projetar\n",
    "Aplicação “inteligente”. A elaboração manual de regras de decisão é viável para algumas aplicações,\n",
    "particularmente aqueles em que os seres humanos têm uma boa compreensão do processo\n",
    "modelar. No entanto, usar regras codificadas manualmente para tomar decisões tem duas desvantagens principais:\n",
    "• A lógica necessária para tomar uma decisão é específica de um único domínio e tarefa.\n",
    "Mudar a tarefa, mesmo que ligeiramente, pode exigir uma reescrita de todo o sistema.\n",
    "• Projetar regras requer um profundo entendimento de como uma decisão deve ser tomada\n",
    "por um especialista humano.\n",
    "Um exemplo de onde esta abordagem codificada manualmente falhará na detecção de rostos em\n",
    "imagens. Hoje, todos os smartphones podem detectar um rosto em uma imagem. No entanto, a detecção de rosto\n",
    "era um problema não resolvido até recentemente, em 2001. O principal problema é que o\n",
    "maneira em que os pixels (que compõem uma imagem em um computador) são “percebidos” pelo\n",
    "o computador é muito diferente de como os humanos percebem um rosto. Essa diferença na representação\n",
    "torna basicamente impossível para um humano criar um bom conjunto de\n",
    "regras para descrever o que constitui um rosto em uma imagem digital.\n",
    "Usando o aprendizado de máquina, no entanto, simplesmente apresentando um programa com uma grande coleção\n",
    "de imagens de faces é suficiente para um algoritmo determinar quais características\n",
    "são necessários para identificar um rosto.\n",
    "Problemas de Aprendizado de Máquina Podem Resolver\n",
    "Os tipos mais bem-sucedidos de algoritmos de aprendizado de máquina são aqueles que automatizam\n",
    "processos de tomada de decisão, generalizando a partir de exemplos conhecidos. Nesse cenário,\n",
    "que é conhecido como aprendizado supervisionado, o usuário fornece o algoritmo com pares de\n",
    "entradas e saídas desejadas, e o algoritmo encontra uma maneira de produzir a saída desejada\n",
    "dada uma entrada. Em particular, o algoritmo é capaz de criar uma saída para uma entrada\n",
    "nunca viu antes, sem ajuda de um humano. Voltando ao nosso exemplo\n",
    "da classificação de spam, usando o aprendizado de máquina, o usuário fornece ao algoritmo\n",
    "grande número de e-mails (que são a entrada), juntamente com informações sobre\n",
    "se algum desses e-mails é spam (que é a saída desejada). Dado um novo\n",
    "e-mail, o algoritmo produzirá uma previsão sobre se o novo e-mail é\n",
    "Spam.\n",
    "Algoritmos de aprendizado de máquina que aprendem com pares de entrada / saída são chamados de supervisionados\n",
    "algoritmos de aprendizagem porque um “professor” fornece supervisão aos algoritmos no\n",
    "forma das saídas desejadas para cada exemplo que eles aprendem. Ao criar um\n",
    "O conjunto de dados de entradas e saídas é frequentemente um processo manual trabalhoso, aprendizagem supervisionada\n",
    "algoritmos são bem compreendidos e seu desempenho é fácil de medir. Se seu\n",
    "aplicação pode ser formulada como um problema de aprendizado supervisionado, e você é capaz de"
   ]
  },
  {
   "cell_type": "markdown",
   "metadata": {},
   "source": [
    "# Uma primeira aplicação: Classificando espécies de íris\n",
    "Nesta seção, vamos passar por um aplicativo simples de aprendizado de máquina e criar\n",
    "nosso primeiro modelo. No processo, introduziremos alguns conceitos e termos fundamentais.\n",
    "Vamos supor que um botânico amador esteja interessado em distinguir as espécies de alguns\n",
    "flores de íris que ela encontrou. Ela coletou algumas medidas associadas\n",
    "cada íris: o comprimento e largura das pétalas e o comprimento e largura das sépalas, todos\n",
    "medido em centímetros (ver Figura 1-2).\n",
    "Ela também tem as medidas de algumas íris que foram previamente identificadas por\n",
    "um perito botânico como pertencente às espécies setosa, versicolor ou virginica. Para estes\n",
    "medições, ela pode ter certeza de quais espécies cada íris pertence. Vamos assumir\n",
    "que estas são as únicas espécies que nosso botânico passará na natureza.\n",
    "Nosso objetivo é construir um modelo de aprendizado de máquina que aprenda com as medições\n",
    "destas íris, cuja espécie é conhecida, de modo que podemos prever as espécies para um novo\n",
    "íris.\n",
    "Um primeiro"
   ]
  },
  {
   "cell_type": "markdown",
   "metadata": {},
   "source": [
    "\n",
    "Porque nós temos medições para as quais sabemos as espécies corretas da íris, isto é um\n",
    "problema de aprendizagem supervisionada. Neste problema, queremos prever um dos vários\n",
    "opções (as espécies da íris). Este é um exemplo de um problema de classificação. O possível\n",
    "saídas (diferentes espécies de íris) são chamadas de classes. Todas as íris no conjunto de dados\n",
    "pertence a uma das três classes, então este problema é um problema de classificação de três classes.\n",
    "A saída desejada para um único ponto de dados (uma íris) é a espécie dessa flor. Para\n",
    "ponto de dados específico, a espécie a que pertence é chamada de rótulo.\n",
    "Conheça os dados\n",
    "Os dados que usaremos para este exemplo são o conjunto de dados Iris, um conjunto de dados clássico na máquina\n",
    "aprendizagem e estatística. Está incluído no scikit-learn no módulo de conjuntos de dados. Nós\n",
    "pode carregá-lo chamando a função load_iris:"
   ]
  },
  {
   "cell_type": "code",
   "execution_count": 1,
   "metadata": {},
   "outputs": [],
   "source": [
    "from sklearn.datasets import load_iris"
   ]
  },
  {
   "cell_type": "code",
   "execution_count": 2,
   "metadata": {},
   "outputs": [],
   "source": [
    "iris = load_iris()"
   ]
  },
  {
   "cell_type": "markdown",
   "metadata": {},
   "source": [
    "O objeto da íris que é retornado por load_iris é um objeto Bunch, que é muito semelhante\n",
    "para um dicionário. Contém chaves e valores:"
   ]
  },
  {
   "cell_type": "code",
   "execution_count": 5,
   "metadata": {},
   "outputs": [
    {
     "data": {
      "text/plain": [
       "dict_keys(['data', 'target', 'target_names', 'DESCR', 'feature_names', 'filename'])"
      ]
     },
     "execution_count": 5,
     "metadata": {},
     "output_type": "execute_result"
    }
   ],
   "source": [
    "iris.keys()"
   ]
  },
  {
   "cell_type": "markdown",
   "metadata": {},
   "source": [
    "\n",
    "O valor da chave DESCR é uma breve descrição do conjunto de dados. Nós mostramos o começo\n",
    "da descrição aqui (fique à vontade para procurar o resto):"
   ]
  },
  {
   "cell_type": "code",
   "execution_count": 10,
   "metadata": {},
   "outputs": [
    {
     "data": {
      "text/plain": [
       "array(['setosa', 'versicolor', 'virginica'], dtype='<U10')"
      ]
     },
     "execution_count": 10,
     "metadata": {},
     "output_type": "execute_result"
    }
   ],
   "source": [
    "iris.target_names"
   ]
  },
  {
   "cell_type": "code",
   "execution_count": 11,
   "metadata": {},
   "outputs": [
    {
     "data": {
      "text/plain": [
       "['sepal length (cm)',\n",
       " 'sepal width (cm)',\n",
       " 'petal length (cm)',\n",
       " 'petal width (cm)']"
      ]
     },
     "execution_count": 11,
     "metadata": {},
     "output_type": "execute_result"
    }
   ],
   "source": [
    "iris.feature_names"
   ]
  },
  {
   "cell_type": "markdown",
   "metadata": {},
   "source": [
    "Os dados em si estão contidos nos campos de destino e dados. dados contém o numérico\n",
    "medições do comprimento da sépala, largura da sépala, comprimento da pétala e largura da pétala em um NumPy\n",
    "matriz:"
   ]
  },
  {
   "cell_type": "code",
   "execution_count": 16,
   "metadata": {},
   "outputs": [
    {
     "data": {
      "text/plain": [
       "(150, 4)"
      ]
     },
     "execution_count": 16,
     "metadata": {},
     "output_type": "execute_result"
    }
   ],
   "source": [
    "iris.data.shape"
   ]
  },
  {
   "cell_type": "markdown",
   "metadata": {},
   "source": [
    "Vemos que o array contém medidas para 150 flores diferentes. Lembrar\n",
    "que os itens individuais são chamados de amostras no aprendizado de máquina e suas propriedades\n",
    "são chamados de recursos. A forma da matriz de dados é o número de amostras multiplicado por\n",
    "o número de recursos. Esta é uma convenção no scikit-learn, e seus dados serão\n",
    "sempre ser assumido como estando nessa forma. Aqui estão os valores de recursos para as primeiras cinco amostras"
   ]
  },
  {
   "cell_type": "code",
   "execution_count": 17,
   "metadata": {},
   "outputs": [
    {
     "data": {
      "text/plain": [
       "array([[5.1, 3.5, 1.4, 0.2],\n",
       "       [4.9, 3. , 1.4, 0.2],\n",
       "       [4.7, 3.2, 1.3, 0.2],\n",
       "       [4.6, 3.1, 1.5, 0.2],\n",
       "       [5. , 3.6, 1.4, 0.2]])"
      ]
     },
     "execution_count": 17,
     "metadata": {},
     "output_type": "execute_result"
    }
   ],
   "source": [
    "iris['data'][:5]"
   ]
  },
  {
   "cell_type": "markdown",
   "metadata": {},
   "source": [
    "A partir desses dados, podemos ver que todas as cinco primeiras flores têm uma largura de pétala de 0,2 cm\n",
    "e que a primeira flor tem a maior sépala, a 5,1 cm.\n",
    "O array alvo contém as espécies de cada uma das flores que foram medidas, também\n",
    "como uma matriz NumPy:"
   ]
  },
  {
   "cell_type": "code",
   "execution_count": 18,
   "metadata": {},
   "outputs": [
    {
     "data": {
      "text/plain": [
       "array([0, 0, 0, 0, 0, 0, 0, 0, 0, 0, 0, 0, 0, 0, 0, 0, 0, 0, 0, 0, 0, 0,\n",
       "       0, 0, 0, 0, 0, 0, 0, 0, 0, 0, 0, 0, 0, 0, 0, 0, 0, 0, 0, 0, 0, 0,\n",
       "       0, 0, 0, 0, 0, 0, 1, 1, 1, 1, 1, 1, 1, 1, 1, 1, 1, 1, 1, 1, 1, 1,\n",
       "       1, 1, 1, 1, 1, 1, 1, 1, 1, 1, 1, 1, 1, 1, 1, 1, 1, 1, 1, 1, 1, 1,\n",
       "       1, 1, 1, 1, 1, 1, 1, 1, 1, 1, 1, 1, 2, 2, 2, 2, 2, 2, 2, 2, 2, 2,\n",
       "       2, 2, 2, 2, 2, 2, 2, 2, 2, 2, 2, 2, 2, 2, 2, 2, 2, 2, 2, 2, 2, 2,\n",
       "       2, 2, 2, 2, 2, 2, 2, 2, 2, 2, 2, 2, 2, 2, 2, 2, 2, 2])"
      ]
     },
     "execution_count": 18,
     "metadata": {},
     "output_type": "execute_result"
    }
   ],
   "source": [
    "iris.target"
   ]
  },
  {
   "cell_type": "code",
   "execution_count": 19,
   "metadata": {},
   "outputs": [
    {
     "data": {
      "text/plain": [
       "(150,)"
      ]
     },
     "execution_count": 19,
     "metadata": {},
     "output_type": "execute_result"
    }
   ],
   "source": [
    "iris.target.shape"
   ]
  },
  {
   "cell_type": "markdown",
   "metadata": {},
   "source": [
    "# Medindo o sucesso: treinando e testando dados"
   ]
  },
  {
   "cell_type": "markdown",
   "metadata": {},
   "source": [
    "Queremos construir um modelo de aprendizado de máquina a partir desses dados que possam prever as espécies\n",
    "de íris para um novo conjunto de medições. Mas antes podemos aplicar nosso modelo a novos\n",
    "medições, precisamos saber se realmente funciona - ou seja, se\n",
    "deve confiar em suas previsões.\n",
    "Infelizmente, não podemos usar os dados que usamos para construir o modelo para avaliá-lo. este\n",
    "é porque o nosso modelo pode sempre simplesmente lembrar de todo o conjunto de treinamento, e\n",
    "portanto, sempre preveja o rótulo correto para qualquer ponto no conjunto de treinamento. este\n",
    "“Recordar” não nos indica se nosso modelo irá generalizar bem (em\n",
    "outras palavras, se também terá um bom desempenho em novos dados).\n",
    "Para avaliar o desempenho do modelo, mostramos novos dados (dados que não foram vistos\n",
    "antes) para o qual temos rótulos. Isso geralmente é feito dividindo os dados rotulados\n",
    "coletamos (aqui, nossas 150 medições de flores) em duas partes. Uma parte do\n",
    "os dados são usados ​​para construir nosso modelo de aprendizado de máquina, e são chamados de dados de treinamento ou\n",
    "conjunto de treinamento. O restante dos dados será usado para avaliar o desempenho do modelo; isto\n",
    "é chamado de dados de teste, conjunto de teste ou conjunto de espera.\n",
    "O scikit-learn contém uma função que embaralha o conjunto de dados e o divide para você:\n",
    "função train_test_split. Essa função extrai 75% das linhas nos dados como\n",
    "conjunto de treinamento, juntamente com os rótulos correspondentes para esses dados. Os restantes 25%\n",
    "dos dados, juntamente com os rótulos restantes, é declarado como o conjunto de teste. Decidindo\n",
    "Um primeiro\n",
    "quantos dados você quer colocar no treinamento e no conjunto de testes, respectivamente, é um pouco\n",
    "arbitrário, mas usar um conjunto de teste contendo 25% dos dados é uma boa regra geral.\n",
    "No scikit-learn, os dados geralmente são denotados com um X maiúsculo, enquanto os rótulos são denotados por\n",
    "um y minúsculo. Isto é inspirado pela formulação padrão f (x) = y em matemática,\n",
    "onde x é a entrada para uma função e y é a saída. Seguindo mais convenções\n",
    "da matemática, usamos um X maiúsculo porque os dados são um array bidimensional (um\n",
    "matriz) e um y minúsculo porque o alvo é um array unidimensional (um vetor).\n",
    "Vamos chamar train_test_split em nossos dados e atribuir as saídas usando essa nomenclatura"
   ]
  },
  {
   "cell_type": "code",
   "execution_count": 3,
   "metadata": {},
   "outputs": [],
   "source": [
    "from sklearn.model_selection import train_test_split"
   ]
  },
  {
   "cell_type": "code",
   "execution_count": 4,
   "metadata": {},
   "outputs": [],
   "source": [
    "x_train,x_test,y_train,y_test = train_test_split(iris['data'],iris['target'],random_state=0)"
   ]
  },
  {
   "cell_type": "markdown",
   "metadata": {},
   "source": [
    "\n",
    "Antes de fazer a divisão, a função train_test_split embaralha o conjunto de dados usando um\n",
    "gerador de números pseudo-aleatórios. Se pegássemos os últimos 25% dos dados como um conjunto de testes,\n",
    "todos os pontos de dados teriam o rótulo 2, pois os pontos de dados são classificados pelo rótulo\n",
    "(veja a saída para iris ['target'] mostrada anteriormente). Usando um conjunto de teste contendo apenas\n",
    "uma das três classes não nos diz muito sobre como nosso modelo generaliza,\n",
    "Por isso, misturamos nossos dados para garantir que os dados de teste contenham dados de todas as classes.\n",
    "Para ter certeza de que obteremos a mesma saída se executarmos a mesma função vários\n",
    "vezes, nós fornecemos o gerador de números pseudo-aleatórios com uma semente fixa usando o\n",
    "parâmetro random_state. Isso tornará o resultado determinístico, então essa linha\n",
    "sempre tem o mesmo resultado. Nós sempre corrigiremos o random_state desta maneira quando\n",
    "usando procedimentos randomizados neste livro.\n",
    "A saída da função train_test_split é X_train, X_test, y_train e\n",
    "y_test, que são todos os arrays NumPy. X_train contém 75% das linhas do conjunto de dados,\n",
    "e o X_test contém os 25% restantes:"
   ]
  },
  {
   "cell_type": "code",
   "execution_count": 24,
   "metadata": {},
   "outputs": [
    {
     "data": {
      "text/plain": [
       "(112, 4)"
      ]
     },
     "execution_count": 24,
     "metadata": {},
     "output_type": "execute_result"
    }
   ],
   "source": [
    "x_train.shape"
   ]
  },
  {
   "cell_type": "code",
   "execution_count": 28,
   "metadata": {},
   "outputs": [
    {
     "data": {
      "text/plain": [
       "(112,)"
      ]
     },
     "execution_count": 28,
     "metadata": {},
     "output_type": "execute_result"
    }
   ],
   "source": [
    "y_train.shape"
   ]
  },
  {
   "cell_type": "code",
   "execution_count": 30,
   "metadata": {},
   "outputs": [
    {
     "data": {
      "text/plain": [
       "(38, 4)"
      ]
     },
     "execution_count": 30,
     "metadata": {},
     "output_type": "execute_result"
    }
   ],
   "source": [
    "x_test.shape"
   ]
  },
  {
   "cell_type": "code",
   "execution_count": 31,
   "metadata": {},
   "outputs": [
    {
     "data": {
      "text/plain": [
       "(38,)"
      ]
     },
     "execution_count": 31,
     "metadata": {},
     "output_type": "execute_result"
    }
   ],
   "source": [
    "y_test.shape"
   ]
  },
  {
   "cell_type": "markdown",
   "metadata": {},
   "source": [
    "# Primeiras coisas primeiro: olhe seus dados\n",
    "Antes de construir um modelo de aprendizado de máquina, geralmente é uma boa ideia inspecionar os dados,\n",
    "para ver se a tarefa é facilmente solucionável sem aprendizado de máquina, ou se a informação desejada\n",
    "pode não estar contido nos dados.\n",
    "Além disso, inspecionar seus dados é uma boa maneira de encontrar anormalidades e peculiaridades.\n",
    "Talvez algumas de suas íris foram medidas usando polegadas e não centímetros, por\n",
    "exemplo. No mundo real, inconsistências nos dados e medições inesperadas\n",
    "são muito comuns.\n",
    "Uma das melhores maneiras de inspecionar os dados é visualizá-los. Uma maneira de fazer isso é usando um\n",
    "gráfico de dispersão. Um gráfico de dispersão dos dados coloca um recurso ao longo do eixo xe outro\n",
    "ao longo do eixo y e desenha um ponto para cada ponto de dados. Infelizmente, computador\n",
    "telas têm apenas duas dimensões, o que nos permite traçar apenas dois (ou talvez três)\n",
    "recursos de cada vez. É difícil traçar conjuntos de dados com mais de três recursos dessa maneira.\n",
    "Uma maneira de contornar esse problema é fazer um gráfico de pares, que analisa todos os possíveis pares de\n",
    "características. Se você tem um pequeno número de recursos, como os quatro que temos aqui, isso é\n",
    "bastante razoavel. Você deve ter em mente, no entanto, que uma plotagem em par não mostra\n",
    "a interação de todos os recursos de uma vez, então alguns aspectos interessantes dos dados podem\n",
    "não ser revelado ao visualizá-lo desta maneira.\n",
    "A Figura 1-3 é um gráfico de pares dos recursos no conjunto de treinamento. Os pontos de dados são coloridos\n",
    "de acordo com a espécie a íris pertence. Para criar o enredo, primeiro convertemos o\n",
    "Matriz NumPy em um DataFrame pandas. pandas tem uma função para criar gráficos de pares\n",
    "chamado scatter_matrix. A diagonal desta matriz é preenchida com histogramas de cada\n",
    "característica:"
   ]
  },
  {
   "cell_type": "code",
   "execution_count": 5,
   "metadata": {},
   "outputs": [],
   "source": [
    "import pandas as pd"
   ]
  },
  {
   "cell_type": "code",
   "execution_count": 6,
   "metadata": {},
   "outputs": [],
   "source": [
    "iris_frame = pd.DataFrame(x_train,columns = iris.feature_names)"
   ]
  },
  {
   "cell_type": "code",
   "execution_count": 7,
   "metadata": {},
   "outputs": [
    {
     "data": {
      "text/html": [
       "<div>\n",
       "<style scoped>\n",
       "    .dataframe tbody tr th:only-of-type {\n",
       "        vertical-align: middle;\n",
       "    }\n",
       "\n",
       "    .dataframe tbody tr th {\n",
       "        vertical-align: top;\n",
       "    }\n",
       "\n",
       "    .dataframe thead th {\n",
       "        text-align: right;\n",
       "    }\n",
       "</style>\n",
       "<table border=\"1\" class=\"dataframe\">\n",
       "  <thead>\n",
       "    <tr style=\"text-align: right;\">\n",
       "      <th></th>\n",
       "      <th>sepal length (cm)</th>\n",
       "      <th>sepal width (cm)</th>\n",
       "      <th>petal length (cm)</th>\n",
       "      <th>petal width (cm)</th>\n",
       "    </tr>\n",
       "  </thead>\n",
       "  <tbody>\n",
       "    <tr>\n",
       "      <th>0</th>\n",
       "      <td>5.9</td>\n",
       "      <td>3.0</td>\n",
       "      <td>4.2</td>\n",
       "      <td>1.5</td>\n",
       "    </tr>\n",
       "    <tr>\n",
       "      <th>1</th>\n",
       "      <td>5.8</td>\n",
       "      <td>2.6</td>\n",
       "      <td>4.0</td>\n",
       "      <td>1.2</td>\n",
       "    </tr>\n",
       "    <tr>\n",
       "      <th>2</th>\n",
       "      <td>6.8</td>\n",
       "      <td>3.0</td>\n",
       "      <td>5.5</td>\n",
       "      <td>2.1</td>\n",
       "    </tr>\n",
       "    <tr>\n",
       "      <th>3</th>\n",
       "      <td>4.7</td>\n",
       "      <td>3.2</td>\n",
       "      <td>1.3</td>\n",
       "      <td>0.2</td>\n",
       "    </tr>\n",
       "    <tr>\n",
       "      <th>4</th>\n",
       "      <td>6.9</td>\n",
       "      <td>3.1</td>\n",
       "      <td>5.1</td>\n",
       "      <td>2.3</td>\n",
       "    </tr>\n",
       "  </tbody>\n",
       "</table>\n",
       "</div>"
      ],
      "text/plain": [
       "   sepal length (cm)  sepal width (cm)  petal length (cm)  petal width (cm)\n",
       "0                5.9               3.0                4.2               1.5\n",
       "1                5.8               2.6                4.0               1.2\n",
       "2                6.8               3.0                5.5               2.1\n",
       "3                4.7               3.2                1.3               0.2\n",
       "4                6.9               3.1                5.1               2.3"
      ]
     },
     "execution_count": 7,
     "metadata": {},
     "output_type": "execute_result"
    }
   ],
   "source": [
    "iris_frame.head()"
   ]
  },
  {
   "cell_type": "code",
   "execution_count": 39,
   "metadata": {},
   "outputs": [
    {
     "data": {
      "text/plain": [
       "['sepal length (cm)',\n",
       " 'sepal width (cm)',\n",
       " 'petal length (cm)',\n",
       " 'petal width (cm)']"
      ]
     },
     "execution_count": 39,
     "metadata": {},
     "output_type": "execute_result"
    }
   ],
   "source": [
    "iris.feature_names"
   ]
  },
  {
   "cell_type": "code",
   "execution_count": 8,
   "metadata": {},
   "outputs": [],
   "source": [
    "import seaborn as sns"
   ]
  },
  {
   "cell_type": "code",
   "execution_count": 18,
   "metadata": {},
   "outputs": [],
   "source": [
    "iris2 = sns.load_dataset('iris')"
   ]
  },
  {
   "cell_type": "code",
   "execution_count": 21,
   "metadata": {},
   "outputs": [
    {
     "data": {
      "text/plain": [
       "<seaborn.axisgrid.PairGrid at 0x59ba24beb8>"
      ]
     },
     "execution_count": 21,
     "metadata": {},
     "output_type": "execute_result"
    },
    {
     "data": {
      "image/png": "[encoded data removed]",
      "text/plain": [
       "<Figure size 720x720 with 20 Axes>"
      ]
     },
     "metadata": {},
     "output_type": "display_data"
    }
   ],
   "source": [
    "sns.set(style ='ticks',color_codes=True)\n",
    "sns.pairplot(iris2)"
   ]
  },
  {
   "cell_type": "markdown",
   "metadata": {},
   "source": [
    "Das parcelas, podemos ver que as três classes parecem estar relativamente bem separadas\n",
    "usando as medidas de sépala e pétala. Isso significa que um modelo de aprendizado de máquina\n",
    "provavelmente será capaz de aprender a separá-los."
   ]
  },
  {
   "cell_type": "markdown",
   "metadata": {},
   "source": [
    "# Construindo seu primeiro modelo: k-Nearest Neighbours\n",
    "Agora podemos começar a construir o modelo real de aprendizado de máquina. Existem muitas classificações\n",
    "algoritmos em scikit-learn que poderíamos usar. Aqui vamos usar um k mais próximo\n",
    "classificador de vizinhos, que é fácil de entender. Construir este modelo consiste apenas em\n",
    "armazenar o conjunto de treinamento. Para fazer uma previsão para um novo ponto de dados, o algoritmo\n",
    "encontra o ponto no conjunto de treinamento que está mais próximo do novo ponto. Em seguida, atribui o\n",
    "rótulo deste ponto de treinamento para o novo ponto de dados.\n",
    "20 |"
   ]
  },
  {
   "cell_type": "markdown",
   "metadata": {},
   "source": [
    "O k em k vizinhos mais próximos significa que, em vez de usar apenas o vizinho mais próximo\n",
    "para o novo ponto de dados, podemos considerar qualquer número fixo k de vizinhos na formação\n",
    "(por exemplo, os três ou cinco vizinhos mais próximos). Então, podemos fazer uma previsão\n",
    "usando a classe majoritária entre esses vizinhos. Vamos entrar em mais detalhes sobre\n",
    "isso no capítulo 2; Por enquanto, vamos usar apenas um único vizinho.\n",
    "Todos os modelos de aprendizado de máquina no scikit-learn são implementados em suas próprias classes,\n",
    "que são chamadas de classes de estimadores. O algoritmo de classificação dos vizinhos k mais próximos\n",
    "é implementado na classe KNeighborsClassifier no módulo vizinhos. Antes\n",
    "podemos usar o modelo, precisamos instanciar a classe em um objeto. Isto é quando nós\n",
    "irá definir todos os parâmetros do modelo. O parâmetro mais importante do KNeighbor\n",
    "sClassifier é o número de vizinhos, que definiremos como 1:"
   ]
  },
  {
   "cell_type": "code",
   "execution_count": 22,
   "metadata": {},
   "outputs": [],
   "source": [
    "from sklearn.neighbors import KNeighborsClassifier"
   ]
  },
  {
   "cell_type": "code",
   "execution_count": 24,
   "metadata": {},
   "outputs": [],
   "source": [
    "knn = KNeighborsClassifier(n_neighbors =1)"
   ]
  },
  {
   "cell_type": "markdown",
   "metadata": {},
   "source": [
    "O objeto knn encapsula o algoritmo que será usado para construir o modelo a partir\n",
    "os dados de treinamento, bem como o algoritmo para fazer previsões em novos pontos de dados. Será\n",
    "também mantenha as informações que o algoritmo extraiu dos dados de treinamento. Em\n",
    "No caso do KNeighborsClassifier, ele apenas armazenará o conjunto de treinamento.\n",
    "Para construir o modelo no conjunto de treinamento, chamamos o método de ajuste do objeto knn,\n",
    "que toma como argumentos o array Num_train X_train contendo os dados de treinamento e\n",
    "o array de valores numpicos y_train dos rótulos de treinamento correspondentes:"
   ]
  },
  {
   "cell_type": "code",
   "execution_count": 25,
   "metadata": {},
   "outputs": [
    {
     "data": {
      "text/plain": [
       "KNeighborsClassifier(algorithm='auto', leaf_size=30, metric='minkowski',\n",
       "           metric_params=None, n_jobs=None, n_neighbors=1, p=2,\n",
       "           weights='uniform')"
      ]
     },
     "execution_count": 25,
     "metadata": {},
     "output_type": "execute_result"
    }
   ],
   "source": [
    "knn.fit(x_train,y_train)"
   ]
  },
  {
   "cell_type": "markdown",
   "metadata": {},
   "source": [
    "O método de ajuste retorna o próprio objeto knn (e o modifica no lugar), então obtemos um\n",
    "representação de string do nosso classificador. A representação nos mostra quais parâmetros\n",
    "foram utilizados na criação do modelo. Quase todos eles são os valores padrão, mas você pode\n",
    "encontre também n_neighbors = 1, que é o parâmetro que passamos. A maioria dos modelos em\n",
    "scikit-learn tem muitos parâmetros, mas a maioria deles são otimizações de velocidade\n",
    "ou para casos de uso muito especiais. Você não precisa se preocupar com o outro\n",
    "parâmetros mostrados nesta representação. Imprimir um modelo scikit-learn pode render\n",
    "cordas muito longas, mas não se deixe intimidar por elas. Vamos cobrir todos os importantes\n",
    "parâmetros no Capítulo 2. No restante deste livro, não mostraremos a saída\n",
    "de ajuste porque não contém novas informações."
   ]
  },
  {
   "cell_type": "markdown",
   "metadata": {},
   "source": [
    "# Fazendo Previsões\n",
    "Agora podemos fazer previsões usando esse modelo em novos dados para os quais podemos não\n",
    "conheça os rótulos corretos. Imagine que encontramos uma íris na natureza com um comprimento de sépala\n",
    "5 cm, uma largura de separe de 2,9 cm, um comprimento de pétala de 1 cm e uma largura de pétala de 0,2 cm.\n",
    "Que espécie de íris seria essa? Podemos colocar esses dados em um array NumPy, novamente por\n",
    "calcular a forma - ou seja, o número de amostras (1) multiplicado pelo número de\n",
    "recurso 4"
   ]
  },
  {
   "cell_type": "code",
   "execution_count": 26,
   "metadata": {},
   "outputs": [
    {
     "data": {
      "text/plain": [
       "(1, 4)"
      ]
     },
     "execution_count": 26,
     "metadata": {},
     "output_type": "execute_result"
    }
   ],
   "source": [
    "import numpy as np\n",
    "x_new = np.array([[5,2.9,1,0.2]])\n",
    "x_new.shape"
   ]
  },
  {
   "cell_type": "code",
   "execution_count": 27,
   "metadata": {},
   "outputs": [
    {
     "data": {
      "text/plain": [
       "array([[5. , 2.9, 1. , 0.2]])"
      ]
     },
     "execution_count": 27,
     "metadata": {},
     "output_type": "execute_result"
    }
   ],
   "source": [
    "x_new"
   ]
  },
  {
   "cell_type": "markdown",
   "metadata": {},
   "source": [
    "Note que fizemos as medições desta única flor em uma linha em um plano bidimensional\n",
    "Matriz NumPy, como o scikit-learn sempre espera matrizes bidimensionais\n",
    "para os dados.\n",
    "Para fazer uma previsão, chamamos o método predit do objeto knn:"
   ]
  },
  {
   "cell_type": "code",
   "execution_count": 28,
   "metadata": {},
   "outputs": [
    {
     "data": {
      "text/plain": [
       "array(['setosa'], dtype='<U10')"
      ]
     },
     "execution_count": 28,
     "metadata": {},
     "output_type": "execute_result"
    }
   ],
   "source": [
    "prediction = knn.predict(x_new)\n",
    "iris['target_names'][prediction]"
   ]
  },
  {
   "cell_type": "markdown",
   "metadata": {},
   "source": [
    "Nosso modelo prevê que esta nova íris pertence à classe 0, ou seja, sua espécie é\n",
    "setosa. Mas como sabemos se podemos confiar em nosso modelo? Nós não sabemos o correto\n",
    "espécie desta amostra, que é o ponto inteiro de construir o modelo!"
   ]
  },
  {
   "cell_type": "markdown",
   "metadata": {},
   "source": [
    "# Avaliando o Modelo\n",
    "É aqui que entra o conjunto de testes que criamos anteriormente. Esses dados não foram usados ​​para\n",
    "construir o modelo, mas sabemos qual é a espécie correta para cada íris no teste\n",
    "conjunto.\n",
    "Portanto, podemos fazer uma previsão para cada íris nos dados de teste e compará-la\n",
    "contra o seu rótulo (as espécies conhecidas). Podemos medir o quão bem o modelo funciona\n",
    "calcular a precisão, que é a fração de flores para a qual as espécies certas\n",
    "foi previsto:"
   ]
  },
  {
   "cell_type": "code",
   "execution_count": 29,
   "metadata": {},
   "outputs": [],
   "source": [
    "y_pred = knn.predict(x_test)"
   ]
  },
  {
   "cell_type": "code",
   "execution_count": 30,
   "metadata": {},
   "outputs": [
    {
     "data": {
      "text/plain": [
       "array([2, 1, 0, 2, 0, 2, 0, 1, 1, 1, 2, 1, 1, 1, 1, 0, 1, 1, 0, 0, 2, 1,\n",
       "       0, 0, 2, 0, 0, 1, 1, 0, 2, 1, 0, 2, 2, 1, 0, 2])"
      ]
     },
     "execution_count": 30,
     "metadata": {},
     "output_type": "execute_result"
    }
   ],
   "source": [
    "y_pred"
   ]
  },
  {
   "cell_type": "code",
   "execution_count": 31,
   "metadata": {},
   "outputs": [
    {
     "data": {
      "text/plain": [
       "0.9736842105263158"
      ]
     },
     "execution_count": 31,
     "metadata": {},
     "output_type": "execute_result"
    }
   ],
   "source": [
    "np.mean(y_pred==y_test)"
   ]
  },
  {
   "cell_type": "markdown",
   "metadata": {},
   "source": [
    "Também podemos usar o método de pontuação do objeto knn, que calculará o conjunto de testes\n",
    "precisão para nós:\n",
    "Em"
   ]
  },
  {
   "cell_type": "code",
   "execution_count": 32,
   "metadata": {},
   "outputs": [
    {
     "data": {
      "text/plain": [
       "0.9736842105263158"
      ]
     },
     "execution_count": 32,
     "metadata": {},
     "output_type": "execute_result"
    }
   ],
   "source": [
    "knn.score(x_test,y_test)"
   ]
  },
  {
   "cell_type": "markdown",
   "metadata": {},
   "source": [
    "Para este modelo, a precisão do conjunto de testes é de cerca de 0,97, o que significa que fizemos o correto\n",
    "previsão para 97% das íris no conjunto de teste. Sob algumas suposições matemáticas,\n",
    "isso significa que podemos esperar que nosso modelo seja correto 97% do tempo para novos\n",
    "íris. Para a nossa aplicação botânica hobby, este alto nível de precisão significa que o nosso\n",
    "modelo pode ser confiável o suficiente para usar. Nos próximos capítulos, discutiremos como\n",
    "pode melhorar o desempenho e quais as ressalvas que existem no ajuste de um modelo."
   ]
  },
  {
   "cell_type": "markdown",
   "metadata": {},
   "source": [
    "# Resumo e Perspectiva\n",
    "Vamos resumir o que aprendemos neste capítulo. Nós começamos com uma breve introdução\n",
    "aprendizado de máquina e suas aplicações, então discutiu a distinção entre\n",
    "aprendizado supervisionado e não supervisionado e uma visão geral das ferramentas que serão\n",
    "usando neste livro. Então, nós formulamos a tarefa de prever quais espécies de íris\n",
    "particular flor pertence usando medições físicas da flor. Nós usamos um\n",
    "conjunto de dados de medições que foi anotado por um especialista com as espécies corretas\n",
    "construir o nosso modelo, tornando esta uma tarefa de aprendizagem supervisionada. Havia três possíveis\n",
    "espécie, setosa, versicolor ou virginica, o que tornou a tarefa uma classificação de três classes\n",
    "problema. As espécies possíveis são chamadas de classes no problema de classificação, e as\n",
    "espécies de uma única íris é chamado seu rótulo.\n",
    "O conjunto de dados Iris consiste em dois arrays NumPy: um contendo os dados, que é\n",
    "referido como X em scikit-learn, e um contendo os resultados corretos ou desejados,"
   ]
  },
  {
   "cell_type": "markdown",
   "metadata": {},
   "source": [
    "que é chamado y. A matriz X é uma matriz bidimensional de recursos, com uma linha por\n",
    "ponto de dados e uma coluna por recurso. O array y é um array unidimensional, que\n",
    "aqui contém um rótulo de classe, um inteiro variando de 0 a 2, para cada uma das amostras.\n",
    "Nós dividimos nosso conjunto de dados em um conjunto de treinamento, para construir nosso modelo e um conjunto de teste, para avaliar\n",
    "quão bem nosso modelo será generalizado para novos dados, nunca vistos antes.\n",
    "Escolhemos o algoritmo de classificação de vizinhos k mais próximos, que faz previsões\n",
    "para um novo ponto de dados considerando seu (s) vizinho (s) mais próximo (s) no conjunto de treinamento. Isto é\n",
    "implementado na classe KNeighborsClassifier, que contém o algoritmo que\n",
    "constrói o modelo, bem como o algoritmo que faz uma previsão usando o modelo.\n",
    "Nós instanciamos a classe, definindo parâmetros. Então nós construímos o modelo chamando o\n",
    "método de ajuste, passando os dados de treinamento (X_train) e as saídas de treinamento (y_train) como\n",
    "parâmetros. Nós avaliamos o modelo usando o método score, que calcula o\n",
    "precisão do modelo. Aplicamos o método de pontuação aos dados do teste e o teste\n",
    "definir rótulos e descobriu que o nosso modelo é de cerca de 97% de precisão, o que significa que é 97% correto\n",
    "da hora no conjunto de testes.\n",
    "Isso nos deu a confiança para aplicar o modelo a novos dados (em nosso exemplo,\n",
    "medições de flores) e confiar que o modelo estará correto cerca de 97% do tempo.\n",
    "Aqui está um resumo do código necessário para toda a formação e avaliação\n",
    "procedimento:"
   ]
  },
  {
   "cell_type": "markdown",
   "metadata": {},
   "source": [
    "Este snippet contém o código principal para aplicar qualquer algoritmo de aprendizado de máquina\n",
    "usando scikit-learn. Os métodos de ajuste, previsão e pontuação são a interface comum\n",
    "aos modelos supervisionados em scikit-learn, e com os conceitos introduzidos neste\n",
    "Neste capítulo, você pode aplicar esses modelos a muitas tarefas de aprendizado de máquina. Na próxima\n",
    "capítulo, vamos entrar em mais profundidade sobre os diferentes tipos de modelos supervisionados em\n",
    "scikit-learn e como aplicá-los com sucesso."
   ]
  },
  {
   "cell_type": "code",
   "execution_count": null,
   "metadata": {},
   "outputs": [],
   "source": []
  }
 ],
 "metadata": {
  "kernelspec": {
   "display_name": "Python 3",
   "language": "python",
   "name": "python3"
  },
  "language_info": {
   "codemirror_mode": {
    "name": "ipython",
    "version": 3
   },
   "file_extension": ".py",
   "mimetype": "text/x-python",
   "name": "python",
   "nbconvert_exporter": "python",
   "pygments_lexer": "ipython3",
   "version": "3.7.1"
  }
 },
 "nbformat": 4,
 "nbformat_minor": 2
}
