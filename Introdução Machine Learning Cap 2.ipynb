{
 "cells": [
  {
   "cell_type": "code",
   "execution_count": 1,
   "metadata": {},
   "outputs": [],
   "source": [
    "import numpy as np\n",
    "import pandas as pd"
   ]
  },
  {
   "cell_type": "markdown",
   "metadata": {},
   "source": [
    "# Aprendizagem Supervisionada\n",
    "Como mencionamos anteriormente, o aprendizado de máquina supervisionado é um dos mais\n",
    "tipos de aprendizado de máquina usados ​​e bem-sucedidos. Neste capítulo, descreveremos as\n",
    "aprender com mais detalhes e explicar vários algoritmos populares de aprendizado supervisionado.\n",
    "Já vimos uma aplicação de aprendizado de máquina supervisionado no Capítulo 1:\n",
    "classificando as flores da íris em várias espécies usando medições físicas do\n",
    "flores.\n",
    "Lembre-se que a aprendizagem supervisionada é usada sempre que queremos prever um certo\n",
    "resultado de uma dada entrada, e temos exemplos de pares de entrada / saída. Nós construímos um\n",
    "modelo de aprendizado de máquina a partir desses pares de entrada / saída, que compõem nosso treinamento\n",
    "conjunto. Nosso objetivo é fazer previsões precisas para novos dados nunca antes vistos. Supervisionado\n",
    "O aprendizado muitas vezes requer esforço humano para construir o conjunto de treinamento, mas depois\n",
    "automatiza e, muitas vezes, acelera uma tarefa laboriosa ou inviável."
   ]
  },
  {
   "cell_type": "markdown",
   "metadata": {},
   "source": [
    "# Classificação e Regressão\n",
    "Existem dois tipos principais de problemas de aprendizado de máquina supervisionados, chamados de classificação\n",
    "e regressão.\n",
    "Na classificação, o objetivo é prever um rótulo de classe, que é uma escolha de um rótulo pré-definido.\n",
    "lista de possibilidades. No Capítulo 1, usamos o exemplo da classificação de íris em um dos\n",
    "três espécies possíveis. A classificação é por vezes separada em classificação binária,\n",
    "que é o caso especial de distinguir entre exatamente duas classes e multiclasse\n",
    "classificação, que é a classificação entre mais de duas classes. Você pode pensar em\n",
    "classificação binária como tentar responder uma pergunta sim / não. Classificando e-mails como\n",
    "spam ou não spam é um exemplo de problema de classificação binária. Nisso\n",
    "tarefa de classificação binária, a pergunta sim / não sendo perguntada seria “É este e-mail\n",
    "Spam?\""
   ]
  },
  {
   "cell_type": "markdown",
   "metadata": {},
   "source": [
    "\n",
    "O exemplo da íris, por outro lado, é um exemplo de um problema de classificação multiclasse.\n",
    "Outro exemplo é prever em que idioma está um site a partir do texto no\n",
    "local na rede Internet. As classes aqui seriam uma lista pré-definida de possíveis idiomas.\n",
    "Para tarefas de regressão, o objetivo é prever um número contínuo ou um ponto flutuante\n",
    "número em termos de programação (ou número real em termos matemáticos). Prever um\n",
    "renda anual da pessoa de sua educação, sua idade e onde moram é uma\n",
    "exemplo de uma tarefa de regressão. Ao prever a renda, o valor previsto é um\n",
    "quantidade, e pode ser qualquer número em um determinado intervalo. Outro exemplo de uma regressão\n",
    "tarefa é prever o rendimento de uma fazenda de milho dados atributos como rendimentos anteriores,\n",
    "tempo e número de funcionários trabalhando na fazenda. O rendimento novamente pode ser um\n",
    "número arbitrário.\n",
    "Uma maneira fácil de distinguir entre tarefas de classificação e regressão é perguntar\n",
    "se existe algum tipo de continuidade na saída. Se houver continuidade entre\n",
    "resultados possíveis, o problema é um problema de regressão. Pense em prever\n",
    "rendimento anual. Há uma continuidade clara na saída. Se uma pessoa faz\n",
    "US $ 40.000 ou US $ 40.001 por ano não faz uma diferença tangível, mesmo que sejam\n",
    "quantidades diferentes de dinheiro; se o nosso algoritmo prevê $ 39.999 ou $ 40.001 quando\n",
    "deveria ter previsto US $ 40.000, não nos importamos muito.\n",
    "Em contraste, para a tarefa de reconhecer a linguagem de um site (que é uma classificação\n",
    "problema), não há questão de grau. Um site está em um idioma ou está em\n",
    "outro. Não há continuidade entre as línguas e não há linguagem que seja\n",
    "entre inglês e francês.1"
   ]
  },
  {
   "cell_type": "markdown",
   "metadata": {},
   "source": [
    "# Generalização, sobrealimentação e mal-ajuste\n",
    "Na aprendizagem supervisionada, queremos construir um modelo sobre os dados de treinamento e depois\n",
    "capaz de fazer previsões precisas sobre dados novos e invisíveis que tenham as mesmas características\n",
    "como o conjunto de treinamento que usamos. Se um modelo é capaz de fazer previsões precisas sobre\n",
    "dados invisíveis, dizemos que é capaz de generalizar do conjunto de treinamento para o conjunto de teste. Nós\n",
    "Quer construir um modelo que seja capaz de generalizar com a maior precisão possível.\n",
    "26 |\n",
    "Geralmente construímos um modelo de tal forma que ele possa fazer previsões precisas sobre o\n",
    "conjunto de treinamento. Se os conjuntos de treinamento e teste tiverem bastante em comum, esperamos que\n",
    "modelo para também ser preciso no conjunto de teste. No entanto, existem alguns casos em que\n",
    "pode dar errado. Por exemplo, se nos permitirmos construir modelos muito complexos,\n",
    "sempre pode ser tão preciso quanto gostarmos no conjunto de treinamento.\n",
    "Vamos dar uma olhada em um exemplo inventado para ilustrar esse ponto. Diga um cientista de dados novato\n",
    "quer prever se um cliente comprará um barco, dados os registros de\n",
    "compradores de barcos e clientes que sabemos que não estão interessados ​​em comprar um barco.\n",
    "O objetivo é enviar e-mails promocionais para pessoas que provavelmente farão um\n",
    "compra, mas não incomoda os clientes que não estão interessados.\n",
    "Suponha que tenhamos os registros do cliente mostrados na Tabela 2-1."
   ]
  },
  {
   "cell_type": "markdown",
   "metadata": {},
   "source": [
    "Depois de olhar para os dados por um tempo, nosso cientista de dados novato vem com o seguinte\n",
    "regra: “Se o cliente tem mais de 45 anos e menos de 3 filhos ou não é\n",
    "divorciados, então eles querem comprar um barco. ”Quando perguntado sobre o quão bem esta regra faz,\n",
    "nosso cientista de dados responde: \"É 100% preciso!\" E, de fato, nos dados que são\n",
    "na tabela, a regra é perfeitamente precisa. Existem muitas regras possíveis que poderíamos\n",
    "venha com isso explicaria perfeitamente se alguém neste conjunto de dados quer comprar um\n",
    "barco. Nenhuma idade aparece duas vezes nos dados, por isso podemos dizer que as pessoas com 66, 52, 53 ou\n",
    "Generalização, Overfitting\n",
    "58 anos querem comprar um barco, enquanto todos os outros não. Enquanto nós podemos fazer muitos\n",
    "regras que funcionam bem com esses dados, lembre-se de que não estamos interessados ​​em fazer previsões\n",
    "para este conjunto de dados; nós já sabemos as respostas para esses clientes. Nós queremos\n",
    "para saber se novos clientes estão propensos a comprar um barco. Por isso, queremos encontrar uma regra que\n",
    "funcionará bem para novos clientes e alcançará 100% de precisão no treinamento\n",
    "conjunto não nos ajuda lá. Podemos não esperar que a regra de nosso cientista de dados venha\n",
    "com o vai funcionar muito bem em novos clientes. Parece muito complexo e é suportado\n",
    "por muito poucos dados. Por exemplo, a parte “ou não é divorciada” das regras depende\n",
    "em um único cliente.\n",
    "A única medida de se um algoritmo terá um bom desempenho em novos dados é a avaliação\n",
    "no conjunto de teste. Entretanto, intuitivamente, esperamos que modelos simples generalizem\n",
    "melhor para novos dados. Se a regra era \"Pessoas com mais de 50 anos querem comprar um barco\", e isso\n",
    "explicaria o comportamento de todos os clientes, confiariamos mais do que a regra\n",
    "envolvendo crianças e estado civil além da idade. Portanto, nós sempre queremos\n",
    "encontre o modelo mais simples. Construindo um modelo que é muito complexo para a quantidade de\n",
    "as informações que temos, como fez nosso cientista de dados novato, são chamadas de overfitting. Overfitting\n",
    "ocorre quando você ajusta um modelo muito de perto às particularidades do conjunto de treinamento e\n",
    "obter um modelo que funcione bem no conjunto de treinamento, mas não seja capaz de generalizar\n",
    "dados. Por outro lado, se o seu modelo é muito simples - digamos, “todo mundo que possui um\n",
    "casa compra um barco ”- então você pode não ser capaz de capturar todos os aspectos e variabilidade\n",
    "nos dados, e seu modelo fará mal mesmo no conjunto de treinamento. Escolhendo\n",
    "Um modelo muito simples é chamado de underfitting.\n",
    "Quanto mais complexo permitirmos que nosso modelo seja, melhor poderemos prever\n",
    "os dados de treinamento. No entanto, se o nosso modelo se torna muito complexo, começamos a nos concentrar também\n",
    "muito em cada ponto de dados individual em nosso conjunto de treinamento, e o modelo não generalizará\n",
    "bem para novos dados.\n",
    "Há um ponto ideal no meio que renderá o melhor desempenho de generalização.\n",
    "Este é o modelo que queremos encontrar.\n",
    "O trade-off entre overfitting e underfitting é ilustrado na Figura 2-1."
   ]
  },
  {
   "cell_type": "markdown",
   "metadata": {},
   "source": [
    "# Relação da Complexidade do Modelo com o Tamanho do Conjunto de Dados\n",
    "É importante notar que a complexidade do modelo está intimamente ligada à variação de\n",
    "entradas contidas em seu conjunto de dados de treinamento: a maior variedade de dados aponta seu conjunto de dados\n",
    "contém, o modelo mais complexo que você pode usar sem overfitting. Normalmente, coletando\n",
    "mais pontos de dados renderão mais variedade, então conjuntos de dados maiores permitem\n",
    "modelos mais complexos. No entanto, simplesmente duplicando os mesmos pontos de dados ou coletando\n",
    "Dados muito semelhantes não ajudarão.\n",
    "Voltando ao exemplo de venda de barco, se vimos mais 10.000 linhas de dados de clientes,\n",
    "e todos eles cumpriam a regra “Se o cliente tiver mais de 45 anos e tiver menos\n",
    "de 3 filhos ou não é divorciada, então eles querem comprar um barco \", seria muito\n",
    "mais propensos a acreditar que isso seja uma boa regra do que quando foi desenvolvido usando apenas\n",
    "as 12 linhas na Tabela 2-1.\n",
    "Ter mais dados e construir adequadamente modelos mais complexos pode muitas vezes funcionar\n",
    "maravilhas para tarefas de aprendizagem supervisionadas. Neste livro, vamos nos concentrar em trabalhar com\n",
    "conjuntos de dados de tamanhos fixos. No mundo real, muitas vezes você tem a capacidade de decidir como\n",
    "muitos dados para coletar, o que pode ser mais benéfico do que ajustar e ajustar seus\n",
    "modelo. Nunca subestime o poder de mais dados."
   ]
  },
  {
   "cell_type": "markdown",
   "metadata": {},
   "source": [
    "# Algoritmos de Aprendizado de Máquina Supervisionados\n",
    "Vamos agora rever os algoritmos de aprendizado de máquina mais populares e explicar como\n",
    "eles aprendem com dados e como fazem previsões. Também vamos discutir como o\n",
    "O conceito de complexidade do modelo se aplica a cada um desses modelos e fornece uma\n",
    "\n",
    "visão de como cada algoritmo constrói um modelo. Vamos examinar os pontos fortes e fracos\n",
    "de cada algoritmo, e em que tipo de dados eles podem ser melhor aplicados. Nós vamos\n",
    "também explicam o significado dos parâmetros e opções mais importantes.4 Muitos algoritmos\n",
    "tem uma classificação e uma variante de regressão, e nós descreveremos ambos.\n",
    "Não é necessário ler as descrições de cada algoritmo em detalhes, mas\n",
    "compreender os modelos lhe dará uma sensação melhor para as diferentes formas\n",
    "algoritmos de aprendizado de máquina podem funcionar. Este capítulo também pode ser usado como referência\n",
    "guia, e você pode voltar a ele quando você não tem certeza sobre o funcionamento de qualquer um dos\n",
    "os algoritmos."
   ]
  },
  {
   "cell_type": "markdown",
   "metadata": {},
   "source": [
    "# Alguns Conjuntos de Dados de Amostra\n",
    "Vamos usar vários conjuntos de dados para ilustrar os diferentes algoritmos. Alguns dos conjuntos de dados\n",
    "será pequeno e sintético (ou seja, confeccionado), projetado para destacar\n",
    "aspectos dos algoritmos. Outros conjuntos de dados serão grandes exemplos do mundo real.\n",
    "Um exemplo de um conjunto de dados de classificação de duas classes sintéticas é o conjunto de dados de forja, que\n",
    "tem dois recursos. O código a seguir cria um gráfico de dispersão (Figura 2-2) visualizando todos\n",
    "dos pontos de dados neste conjunto de dados. O gráfico tem o primeiro recurso no eixo xe o\n",
    "segunda característica no eixo y. Como é sempre o caso em gráficos de dispersão, cada ponto de dados é\n",
    "representado como um ponto. A cor e a forma do ponto indicam sua classe:"
   ]
  },
  {
   "cell_type": "code",
   "execution_count": 2,
   "metadata": {},
   "outputs": [],
   "source": [
    "import seaborn as sns\n",
    "import matplotlib.pyplot as plt"
   ]
  },
  {
   "cell_type": "code",
   "execution_count": 7,
   "metadata": {},
   "outputs": [],
   "source": [
    "x = np.arange(26)"
   ]
  },
  {
   "cell_type": "code",
   "execution_count": 8,
   "metadata": {},
   "outputs": [
    {
     "data": {
      "text/plain": [
       "array([ 0,  1,  2,  3,  4,  5,  6,  7,  8,  9, 10, 11, 12, 13, 14, 15, 16,\n",
       "       17, 18, 19, 20, 21, 22, 23, 24, 25])"
      ]
     },
     "execution_count": 8,
     "metadata": {},
     "output_type": "execute_result"
    }
   ],
   "source": [
    "x"
   ]
  },
  {
   "cell_type": "code",
   "execution_count": 11,
   "metadata": {},
   "outputs": [],
   "source": [
    "y = np.arange(26)"
   ]
  },
  {
   "cell_type": "code",
   "execution_count": 12,
   "metadata": {},
   "outputs": [
    {
     "data": {
      "text/plain": [
       "<matplotlib.axes._subplots.AxesSubplot at 0xb9fc0aba20>"
      ]
     },
     "execution_count": 12,
     "metadata": {},
     "output_type": "execute_result"
    },
    {
     "data": {
      "image/png": "[encoded data removed]",
      "text/plain": [
       "<Figure size 432x288 with 1 Axes>"
      ]
     },
     "metadata": {
      "needs_background": "light"
     },
     "output_type": "display_data"
    }
   ],
   "source": [
    "sns.scatterplot(x,y)\n"
   ]
  },
  {
   "cell_type": "markdown",
   "metadata": {},
   "source": [
    "\n",
    "Como você pode ver no X.shape, esse conjunto de dados consiste em 26 pontos de dados, com dois recursos.\n",
    "Para ilustrar os algoritmos de regressão, usaremos o conjunto de dados de onda sintética. A onda\n",
    "o conjunto de dados tem um único recurso de entrada e uma variável de destino contínua (ou resposta) que\n",
    "nós queremos modelar. O gráfico criado aqui (Figura 2-3) mostra o recurso único no\n",
    "eixo x e a meta de regressão (a saída) no eixo y:"
   ]
  },
  {
   "cell_type": "markdown",
   "metadata": {},
   "source": [
    "Estamos usando esses conjuntos de dados muito simples e de baixa dimensão porque podemos visualizar facilmente\n",
    "eles - uma página impressa tem duas dimensões, portanto, dados com mais de dois recursos\n",
    "é difícil de mostrar. Qualquer intuição derivada de conjuntos de dados com poucos recursos (também chamados\n",
    "conjuntos de dados de baixa dimensão) podem não ser mantidos em conjuntos de dados com muitos recursos (highdimensional\n",
    "conjuntos de dados). Contanto que você tenha isso em mente, inspecionando os algoritmos\n",
    "Conjuntos de dados de baixa dimensão podem ser muito instrutivos.\n",
    "Vamos complementar esses pequenos conjuntos de dados sintéticos com dois conjuntos de dados do mundo real que\n",
    "estão incluídos no scikit-learn. Um é o conjunto de dados do câncer de mama de Wisconsin (câncer,\n",
    "para breve), que registra medições clínicas de tumores de câncer de mama. Cada tumor\n",
    "é rotulado como “benigno” (para tumores inofensivos) ou “maligno” (para tumores cancerígenos),\n",
    "e a tarefa é aprender a prever se um tumor é maligno com base nas medições\n",
    "do tecido.\n",
    "Os dados podem ser carregados usando a função load_breast_cancer do scikit-learn:"
   ]
  },
  {
   "cell_type": "code",
   "execution_count": 3,
   "metadata": {},
   "outputs": [],
   "source": [
    "from sklearn.datasets import load_breast_cancer"
   ]
  },
  {
   "cell_type": "code",
   "execution_count": 20,
   "metadata": {},
   "outputs": [
    {
     "data": {
      "text/plain": [
       "dict_keys(['data', 'target', 'target_names', 'DESCR', 'feature_names', 'filename'])"
      ]
     },
     "execution_count": 20,
     "metadata": {},
     "output_type": "execute_result"
    }
   ],
   "source": [
    "cancer = load_breast_cancer()\n",
    "cancer.keys()"
   ]
  },
  {
   "cell_type": "code",
   "execution_count": 16,
   "metadata": {},
   "outputs": [
    {
     "data": {
      "text/plain": [
       "(569, 30)"
      ]
     },
     "execution_count": 16,
     "metadata": {},
     "output_type": "execute_result"
    }
   ],
   "source": [
    "cancer.data.shape"
   ]
  },
  {
   "cell_type": "code",
   "execution_count": 21,
   "metadata": {},
   "outputs": [
    {
     "data": {
      "text/plain": [
       "array(['malignant', 'benign'], dtype='<U9')"
      ]
     },
     "execution_count": 21,
     "metadata": {},
     "output_type": "execute_result"
    }
   ],
   "source": [
    "cancer.target_names"
   ]
  },
  {
   "cell_type": "code",
   "execution_count": 24,
   "metadata": {},
   "outputs": [
    {
     "data": {
      "text/plain": [
       "(569,)"
      ]
     },
     "execution_count": 24,
     "metadata": {},
     "output_type": "execute_result"
    }
   ],
   "source": [
    "cancer.target.shape"
   ]
  },
  {
   "cell_type": "code",
   "execution_count": 29,
   "metadata": {},
   "outputs": [
    {
     "data": {
      "text/plain": [
       "array(['mean radius', 'mean texture', 'mean perimeter', 'mean area',\n",
       "       'mean smoothness', 'mean compactness', 'mean concavity',\n",
       "       'mean concave points', 'mean symmetry', 'mean fractal dimension',\n",
       "       'radius error', 'texture error', 'perimeter error', 'area error',\n",
       "       'smoothness error', 'compactness error', 'concavity error',\n",
       "       'concave points error', 'symmetry error',\n",
       "       'fractal dimension error', 'worst radius', 'worst texture',\n",
       "       'worst perimeter', 'worst area', 'worst smoothness',\n",
       "       'worst compactness', 'worst concavity', 'worst concave points',\n",
       "       'worst symmetry', 'worst fractal dimension'], dtype='<U23')"
      ]
     },
     "execution_count": 29,
     "metadata": {},
     "output_type": "execute_result"
    }
   ],
   "source": [
    "cancer['feature_names']"
   ]
  },
  {
   "cell_type": "markdown",
   "metadata": {},
   "source": [
    "Você pode descobrir mais sobre os dados lendo cancer.DESCR se você estiver interessado.\n",
    "Também estaremos usando um conjunto de dados de regressão do mundo real, o conjunto de dados do Boston Housing.\n",
    "A tarefa associada a este conjunto de dados é prever o valor mediano de residências em vários\n",
    "Bairros de Boston na década de 1970, usando informações como taxa de criminalidade,\n",
    "para o rio Charles, acessibilidade rodoviária e assim por diante. O conjunto de dados contém 506\n",
    "pontos de dados, descritos por 13 características:"
   ]
  },
  {
   "cell_type": "code",
   "execution_count": 4,
   "metadata": {},
   "outputs": [],
   "source": [
    "from sklearn.datasets import load_boston\n",
    "boston = load_boston()"
   ]
  },
  {
   "cell_type": "code",
   "execution_count": 35,
   "metadata": {},
   "outputs": [
    {
     "data": {
      "text/plain": [
       "(506, 13)"
      ]
     },
     "execution_count": 35,
     "metadata": {},
     "output_type": "execute_result"
    }
   ],
   "source": [
    "boston.data.shape"
   ]
  },
  {
   "cell_type": "markdown",
   "metadata": {},
   "source": [
    "Novamente, você pode obter mais informações sobre o conjunto de dados lendo o atributo DESCR\n",
    "de Boston. Para os nossos propósitos aqui, vamos realmente expandir este conjunto de dados não só\n",
    "considerando estas 13 medições como recursos de entrada, mas também olhando para todos os produtos\n",
    "(também chamado de interações) entre os recursos. Em outras palavras, não vamos apenas considerar\n",
    "taxa de criminalidade e acessibilidade rodovia como características, mas também o produto da taxa de criminalidade\n",
    "e acessibilidade rodoviária. Incluindo recurso derivado como estes é chamado de engenharia de recursos,\n",
    "que discutiremos com mais detalhes no Capítulo 4. Esse conjunto de dados derivado pode ser\n",
    "carregado usando a função load_extended_boston:"
   ]
  },
  {
   "cell_type": "code",
   "execution_count": 24,
   "metadata": {},
   "outputs": [],
   "source": [
    "X, y = mglearn.datasets.load_extended_boston()\n",
    "# não estou conseguindo import mglearn"
   ]
  },
  {
   "cell_type": "markdown",
   "metadata": {},
   "source": [
    "Os 104 recursos resultantes são os 13 recursos originais junto com os 91 possíveis\n",
    "combinações de duas características dentro daqueles 13.5\n",
    "Usaremos esses conjuntos de dados para explicar e ilustrar as propriedades dos diferentes\n",
    "algoritmos de aprendizado de máquina. Mas, por enquanto, vamos aos próprios algoritmos.\n",
    "Primeiro, vamos revisitar o algoritmo de k vizinhos mais próximos (k-NN) que vimos no\n",
    "capítulo."
   ]
  },
  {
   "cell_type": "markdown",
   "metadata": {},
   "source": [
    "# K-nearest neighbors\n",
    "O algoritmo k-NN é indiscutivelmente o mais simples algoritmo de aprendizado de máquina. Construção\n",
    "o modelo consiste apenas em armazenar o conjunto de dados de treinamento. Para fazer uma previsão para um\n",
    "novo ponto de dados, o algoritmo encontra os pontos de dados mais próximos no conjunto de dados de\n",
    "\"Vizinhos mais próximos\".\n",
    "Classificação de k-Vizinhos\n",
    "Em sua versão mais simples, o algoritmo k-NN considera apenas exatamente um vizinho mais próximo,\n",
    "qual é o ponto de dados de treinamento mais próximo ao ponto que queremos fazer uma previsão\n",
    "para. A previsão é simplesmente a saída conhecida para este ponto de treinamento. Figura 2-4\n",
    "ilustra isso para o caso de classificação no conjunto de dados da forja:"
   ]
  },
  {
   "cell_type": "markdown",
   "metadata": {},
   "source": [
    "Aqui, adicionamos três novos pontos de dados, mostrados como estrelas. Para cada um deles, marcamos\n",
    "o ponto mais próximo do conjunto de treinamento. A previsão do algoritmo de um vizinho mais próximo\n",
    "é o rótulo desse ponto (mostrado pela cor da cruz).\n",
    "\n",
    "Em vez de considerar apenas o vizinho mais próximo, também podemos considerar um\n",
    "número, k, de vizinhos. É aqui que o nome do algoritmo de vizinhos mais próximos de k\n",
    "vem de. Ao considerar mais de um vizinho, usamos o voto para atribuir um\n",
    "rótulo. Isso significa que, para cada ponto de teste, contamos quantos vizinhos pertencem a\n",
    "classe 0 e quantos vizinhos pertencem à classe 1. Em seguida, atribuímos a classe que é\n",
    "mais freqüente: em outras palavras, a classe majoritária entre os k vizinhos mais próximos. o\n",
    "O exemplo a seguir (Figura 2-5) usa os três vizinhos mais próximos:\n",
    "\n",
    "Mais uma vez, a previsão é mostrada como a cor da cruz. Você pode ver que a previsão\n",
    "para o novo ponto de dados no canto superior esquerdo não é o mesmo que a previsão quando\n",
    "usado apenas um vizinho.\n",
    "Embora esta ilustração seja para um problema de classificação binária, este método pode ser\n",
    "aplicado a conjuntos de dados com qualquer número de classes. Para mais classes, contamos quantas\n",
    "vizinhos pertencem a cada classe e novamente prevêem a classe mais comum.\n",
    "Agora, vamos ver como podemos aplicar o algoritmo de k vizinhos mais próximos usando o scikitlearn.\n",
    "Primeiro, dividimos nossos dados em um treinamento e um conjunto de testes para podermos avaliar a generalização\n",
    "desempenho, como discutido no Capítulo 1:"
   ]
  },
  {
   "cell_type": "code",
   "execution_count": 25,
   "metadata": {},
   "outputs": [],
   "source": [
    "from sklearn.model_selection import train_test_split"
   ]
  },
  {
   "cell_type": "code",
   "execution_count": 26,
   "metadata": {},
   "outputs": [
    {
     "name": "stderr",
     "output_type": "stream",
     "text": [
      "C:\\Users\\Nil Cordeiro\\Anaconda3\\lib\\site-packages\\sklearn\\utils\\deprecation.py:77: DeprecationWarning: Function make_blobs is deprecated; Please import make_blobs directly from scikit-learn\n",
      "  warnings.warn(msg, category=DeprecationWarning)\n"
     ]
    }
   ],
   "source": [
    "X,y = mglearn.datasets.make_forge()"
   ]
  },
  {
   "cell_type": "code",
   "execution_count": 27,
   "metadata": {},
   "outputs": [],
   "source": [
    "import mglearn"
   ]
  },
  {
   "cell_type": "code",
   "execution_count": 28,
   "metadata": {},
   "outputs": [],
   "source": [
    "X_train,X_test,y_train,y_test = train_test_split(X,y,random_state =0)"
   ]
  },
  {
   "cell_type": "markdown",
   "metadata": {},
   "source": [
    "Em seguida, importamos e instanciamos a classe. É quando podemos definir parâmetros, como o\n",
    "número de vizinhos para usar. Aqui, nós configuramos para 3:"
   ]
  },
  {
   "cell_type": "code",
   "execution_count": 29,
   "metadata": {},
   "outputs": [],
   "source": [
    "from sklearn.neighbors import KNeighborsClassifier "
   ]
  },
  {
   "cell_type": "code",
   "execution_count": 30,
   "metadata": {},
   "outputs": [],
   "source": [
    "clf = KNeighborsClassifier(n_neighbors =3)"
   ]
  },
  {
   "cell_type": "code",
   "execution_count": 31,
   "metadata": {},
   "outputs": [
    {
     "data": {
      "text/plain": [
       "KNeighborsClassifier(algorithm='auto', leaf_size=30, metric='minkowski',\n",
       "           metric_params=None, n_jobs=None, n_neighbors=3, p=2,\n",
       "           weights='uniform')"
      ]
     },
     "execution_count": 31,
     "metadata": {},
     "output_type": "execute_result"
    }
   ],
   "source": [
    "clf.fit(X_train,y_train)"
   ]
  },
  {
   "cell_type": "code",
   "execution_count": 32,
   "metadata": {},
   "outputs": [
    {
     "data": {
      "text/plain": [
       "array([1, 0, 1, 0, 1, 0, 0])"
      ]
     },
     "execution_count": 32,
     "metadata": {},
     "output_type": "execute_result"
    }
   ],
   "source": [
    "clf.predict(X_test)"
   ]
  },
  {
   "cell_type": "markdown",
   "metadata": {},
   "source": [
    "Para avaliar o quão bem o nosso modelo generaliza, podemos chamar o método de pontuação com o\n",
    "dados de teste junto com as etiquetas de teste"
   ]
  },
  {
   "cell_type": "code",
   "execution_count": 33,
   "metadata": {},
   "outputs": [
    {
     "name": "stdout",
     "output_type": "stream",
     "text": [
      "Precição do conjunto de testes 85.71%\n"
     ]
    }
   ],
   "source": [
    "print('Precição do conjunto de testes {:.2f}%'.format(clf.score(X_test,y_test)*100))"
   ]
  },
  {
   "cell_type": "markdown",
   "metadata": {},
   "source": [
    "\n",
    "Vemos que o nosso modelo tem cerca de 86% de precisão, o que significa que o modelo previu a classe\n",
    "corretamente para 86% das amostras no conjunto de dados de teste."
   ]
  },
  {
   "cell_type": "markdown",
   "metadata": {},
   "source": [
    "# Analyzing KNeighborsClassifier\n",
    "Para conjuntos de dados bidimensionais, podemos também ilustrar a previsão para todos os testes possíveis\n",
    "pontos no plano xy. Nós colorimos o avião de acordo com a classe que seria\n",
    "atribuído a um ponto nesta região. Isso nos permite visualizar o limite de decisão, que é o\n",
    "divida entre onde o algoritmo atribui classe 0 versus onde ele atribui a classe 1.\n",
    "O código a seguir produz as visualizações dos limites de decisão para um,\n",
    "três e nove vizinhos mostrados na Figura 2-6:"
   ]
  },
  {
   "cell_type": "code",
   "execution_count": 18,
   "metadata": {},
   "outputs": [
    {
     "data": {
      "text/plain": [
       "<matplotlib.legend.Legend at 0x6f92141240>"
      ]
     },
     "execution_count": 18,
     "metadata": {},
     "output_type": "execute_result"
    },
    {
     "data": {
      "image/png": "[encoded data removed]",
      "text/plain": [
       "<Figure size 720x216 with 3 Axes>"
      ]
     },
     "metadata": {},
     "output_type": "display_data"
    }
   ],
   "source": [
    "fig, axes = plt.subplots(1, 3, figsize=(10, 3))\n",
    "for n_neighbors, ax in zip([1, 3, 9], axes):\n",
    "    clf = KNeighborsClassifier(n_neighbors=n_neighbors).fit(X, y)\n",
    "    mglearn.plots.plot_2d_separator(clf, X, fill=True, eps=0.5, ax=ax, alpha=.4)\n",
    "    mglearn.discrete_scatter(X[:, 0], X[:, 1], y, ax=ax)\n",
    "    ax.set_title(\"{} neighbor(s)\".format(n_neighbors))\n",
    "    ax.set_xlabel(\"feature 0\")\n",
    "    ax.set_ylabel(\"feature 1\")\n",
    "axes[0].legend(loc=3)\n"
   ]
  },
  {
   "cell_type": "markdown",
   "metadata": {},
   "source": [
    "Figura 2-6. Limites de decisão criados pelo modelo de vizinhos mais próximos para diferentes valores\n",
    "de n_neighbors\n",
    "Como você pode ver à esquerda na figura, usar um único vizinho resulta em uma decisão\n",
    "limite que segue de perto os dados de treinamento. Considerando mais e mais vizinhos\n",
    "leva a um limite de decisão mais suave. Um limite mais suave corresponde a um\n",
    "modelo mais simples. Em outras palavras, usar poucos vizinhos corresponde à alta complexidade do modelo\n",
    "(como mostrado no lado direito da Figura 2-1), e usando muitos vizinhos corresponde\n",
    "a baixa complexidade do modelo (como mostrado no lado esquerdo da Figura 2-1). Se vocês\n",
    "considere o caso extremo em que o número de vizinhos é o número de todos os dados\n",
    "pontos no conjunto de treinamento, cada ponto de teste teria exatamente os mesmos vizinhos\n",
    "pontos de treinamento) e todas as previsões seriam as mesmas: a classe mais frequente\n",
    "no conjunto de treinamento.\n",
    "Vamos investigar se podemos confirmar a conexão entre a complexidade do modelo\n",
    "e generalização que discutimos anteriormente. Vamos fazer isso no mundo real da mama\n",
    "Conjunto de dados de câncer. Começamos dividindo o conjunto de dados em um treinamento e um conjunto de testes. Então\n",
    "avaliamos o desempenho do treinamento e do conjunto de testes com diferentes números de vizinhos.\n",
    "Os resultados são mostrados na Figura 2-7:"
   ]
  },
  {
   "cell_type": "code",
   "execution_count": 34,
   "metadata": {},
   "outputs": [
    {
     "ename": "NameError",
     "evalue": "name 'cancer' is not defined",
     "output_type": "error",
     "traceback": [
      "\u001b[1;31m---------------------------------------------------------------------------\u001b[0m",
      "\u001b[1;31mNameError\u001b[0m                                 Traceback (most recent call last)",
      "\u001b[1;32m<ipython-input-34-571e2b327a4a>\u001b[0m in \u001b[0;36m<module>\u001b[1;34m\u001b[0m\n\u001b[1;32m----> 1\u001b[1;33m \u001b[0mx_train\u001b[0m\u001b[1;33m,\u001b[0m\u001b[0mx_test\u001b[0m\u001b[1;33m,\u001b[0m\u001b[0my_train\u001b[0m\u001b[1;33m,\u001b[0m\u001b[0my_test\u001b[0m \u001b[1;33m=\u001b[0m \u001b[0mtrain_test_split\u001b[0m\u001b[1;33m(\u001b[0m\u001b[0mcancer\u001b[0m\u001b[1;33m[\u001b[0m\u001b[1;34m'data'\u001b[0m\u001b[1;33m]\u001b[0m\u001b[1;33m,\u001b[0m\u001b[0mcancer\u001b[0m\u001b[1;33m[\u001b[0m\u001b[1;34m'target'\u001b[0m\u001b[1;33m]\u001b[0m\u001b[1;33m,\u001b[0m\u001b[0mstratify\u001b[0m \u001b[1;33m=\u001b[0m \u001b[0mcancer\u001b[0m\u001b[1;33m[\u001b[0m\u001b[1;34m'target'\u001b[0m\u001b[1;33m]\u001b[0m\u001b[1;33m,\u001b[0m\u001b[0mrandom_state\u001b[0m \u001b[1;33m=\u001b[0m\u001b[1;36m66\u001b[0m\u001b[1;33m)\u001b[0m\u001b[1;33m\u001b[0m\u001b[1;33m\u001b[0m\u001b[0m\n\u001b[0m",
      "\u001b[1;31mNameError\u001b[0m: name 'cancer' is not defined"
     ]
    }
   ],
   "source": [
    "x_train,x_test,y_train,y_test = train_test_split(cancer['data'],cancer['target'],stratify = cancer['target'],random_state =66)"
   ]
  },
  {
   "cell_type": "code",
   "execution_count": 41,
   "metadata": {},
   "outputs": [],
   "source": [
    "training_accuracy = []\n",
    "test_accuracy = []\n",
    "# try n_neighbors from 1 to 10\n",
    "neighbors_settings = range(1, 11)"
   ]
  },
  {
   "cell_type": "code",
   "execution_count": 42,
   "metadata": {},
   "outputs": [
    {
     "data": {
      "text/plain": [
       "<matplotlib.legend.Legend at 0x6f921ef358>"
      ]
     },
     "execution_count": 42,
     "metadata": {},
     "output_type": "execute_result"
    },
    {
     "data": {
      "image/png": "[encoded data removed]",
      "text/plain": [
       "<Figure size 432x288 with 1 Axes>"
      ]
     },
     "metadata": {
      "needs_background": "light"
     },
     "output_type": "display_data"
    }
   ],
   "source": [
    "for n_neighbors in neighbors_settings:\n",
    "\n",
    "    clf = KNeighborsClassifier(n_neighbors=n_neighbors)\n",
    "    clf.fit(x_train, y_train)\n",
    "    training_accuracy.append(clf.score(x_train, y_train))\n",
    "    test_accuracy.append(clf.score(x_test, y_test))\n",
    "plt.plot(neighbors_settings, training_accuracy, label=\"training accuracy\")\n",
    "plt.plot(neighbors_settings, test_accuracy, label=\"test accuracy\")\n",
    "plt.ylabel(\"Accuracy\")\n",
    "plt.xlabel(\"n_neighbors\")\n",
    "plt.legend()"
   ]
  },
  {
   "cell_type": "markdown",
   "metadata": {},
   "source": [
    "O gráfico mostra a precisão do conjunto de treinamento e teste no eixo y em relação ao ajuste de\n",
    "n_neijos no eixo x. Enquanto as parcelas do mundo real raramente são muito suaves, ainda podemos\n",
    "reconhecer algumas das características de overfitting e underfitting (note que\n",
    "porque considerando menos vizinhos corresponde a um modelo mais complexo, o enredo\n",
    "é invertido horizontalmente em relação à ilustração na Figura 2-1). Considerando um único\n",
    "próximo vizinho, a previsão no conjunto de treinamento é perfeita. Mas quando mais vizinhos\n",
    "são considerados, o modelo se torna mais simples e a precisão do treinamento cai. o\n",
    "a precisão do conjunto de testes para usar um único vizinho é menor do que quando se usa mais vizinhos,\n",
    "indicando que usar o único vizinho mais próximo leva a um modelo que é muito\n",
    "complexo. Por outro lado, ao considerar 10 vizinhos, o modelo é muito simples\n",
    "e o desempenho é ainda pior. O melhor desempenho é em algum lugar no meio,\n",
    "usando cerca de seis vizinhos. Ainda assim, é bom manter a escala da trama em mente. o\n",
    "o pior desempenho é de cerca de 88% de precisão, o que pode ainda ser aceitável."
   ]
  },
  {
   "cell_type": "markdown",
   "metadata": {},
   "source": [
    "# k-neighbors regression\n",
    "Há também uma variante de regressão do algoritmo de vizinhos k mais próximos. Mais uma vez, vamos\n",
    "comece usando o único vizinho mais próximo, desta vez usando o conjunto de dados de onda. Nós temos\n",
    "adicionou três pontos de dados de teste como estrelas verdes no eixo x. A previsão usando um único\n",
    "vizinho é apenas o valor alvo do vizinho mais próximo. Estes são mostrados como estrelas azuis\n",
    "na Figura 2-8:"
   ]
  },
  {
   "cell_type": "code",
   "execution_count": 35,
   "metadata": {},
   "outputs": [
    {
     "data": {
      "image/png": "[encoded data removed]",
      "text/plain": [
       "<Figure size 720x432 with 1 Axes>"
      ]
     },
     "metadata": {
      "needs_background": "light"
     },
     "output_type": "display_data"
    }
   ],
   "source": [
    "mglearn.plots.plot_knn_regression(n_neighbors =1)"
   ]
  },
  {
   "cell_type": "markdown",
   "metadata": {},
   "source": [
    "Figura 2-8. Previsões feitas pela regressão de um vizinho mais próximo no conjunto de dados de onda\n",
    "Novamente, podemos usar mais do que o vizinho mais próximo para regressão. Ao usar\n",
    "vizinhos múltiplos mais próximos, a previsão é a média, ou média, dos\n",
    "vizinhos (Figura 2-9):"
   ]
  },
  {
   "cell_type": "code",
   "execution_count": 46,
   "metadata": {},
   "outputs": [
    {
     "data": {
      "image/png": "[encoded data removed]",
      "text/plain": [
       "<Figure size 720x432 with 1 Axes>"
      ]
     },
     "metadata": {
      "needs_background": "light"
     },
     "output_type": "display_data"
    }
   ],
   "source": [
    "mglearn.plots.plot_knn_regression(n_neighbors =3)"
   ]
  },
  {
   "cell_type": "markdown",
   "metadata": {},
   "source": [
    "Figura 2-9. Previsões feitas pela regressão de três vizinhos mais próximos no conjunto de dados de onda\n",
    "O algoritmo dos k-vizinhos mais próximos para regressão é implementado nos KNeighbors\n",
    "Aula de regente em scikit-learn. É usado de forma semelhante ao KNeighborsClassifier:"
   ]
  },
  {
   "cell_type": "code",
   "execution_count": 36,
   "metadata": {},
   "outputs": [],
   "source": [
    "from sklearn.neighbors import KNeighborsRegressor"
   ]
  },
  {
   "cell_type": "code",
   "execution_count": 41,
   "metadata": {},
   "outputs": [
    {
     "ename": "TypeError",
     "evalue": "make_wave() got an unexpected keyword argument 'n_sambles'",
     "output_type": "error",
     "traceback": [
      "\u001b[1;31m---------------------------------------------------------------------------\u001b[0m",
      "\u001b[1;31mTypeError\u001b[0m                                 Traceback (most recent call last)",
      "\u001b[1;32m<ipython-input-41-1f11eb9766df>\u001b[0m in \u001b[0;36m<module>\u001b[1;34m\u001b[0m\n\u001b[1;32m----> 1\u001b[1;33m \u001b[0mX\u001b[0m\u001b[1;33m,\u001b[0m\u001b[0my\u001b[0m \u001b[1;33m=\u001b[0m \u001b[0mmglearn\u001b[0m\u001b[1;33m.\u001b[0m\u001b[0mdatasets\u001b[0m\u001b[1;33m.\u001b[0m\u001b[0mmake_wave\u001b[0m\u001b[1;33m(\u001b[0m\u001b[0mn_sambles\u001b[0m \u001b[1;33m=\u001b[0m\u001b[1;36m40\u001b[0m\u001b[1;33m)\u001b[0m\u001b[1;33m\u001b[0m\u001b[1;33m\u001b[0m\u001b[0m\n\u001b[0m",
      "\u001b[1;31mTypeError\u001b[0m: make_wave() got an unexpected keyword argument 'n_sambles'"
     ]
    }
   ],
   "source": [
    "X,y = mglearn.datasets.make_wave(n_sambles =40)"
   ]
  },
  {
   "cell_type": "code",
   "execution_count": 39,
   "metadata": {},
   "outputs": [],
   "source": [
    "X_train,X_test,y_train,y_test = train_test_split(X,y,random_state =0)"
   ]
  },
  {
   "cell_type": "code",
   "execution_count": 40,
   "metadata": {},
   "outputs": [],
   "source": [
    "reg = KNeighborsRegressor(n_neighbors = 3)"
   ]
  },
  {
   "cell_type": "code",
   "execution_count": 42,
   "metadata": {},
   "outputs": [
    {
     "data": {
      "text/plain": [
       "KNeighborsRegressor(algorithm='auto', leaf_size=30, metric='minkowski',\n",
       "          metric_params=None, n_jobs=None, n_neighbors=3, p=2,\n",
       "          weights='uniform')"
      ]
     },
     "execution_count": 42,
     "metadata": {},
     "output_type": "execute_result"
    }
   ],
   "source": [
    "reg.fit(X_train,y_train)"
   ]
  },
  {
   "cell_type": "code",
   "execution_count": 44,
   "metadata": {},
   "outputs": [
    {
     "data": {
      "text/plain": [
       "array([1., 0., 1., 0., 1., 0., 0.])"
      ]
     },
     "execution_count": 44,
     "metadata": {},
     "output_type": "execute_result"
    }
   ],
   "source": [
    "reg.predict(X_test)"
   ]
  },
  {
   "cell_type": "markdown",
   "metadata": {},
   "source": [
    "Podemos também avaliar o modelo usando o método score, que para regressores retorna\n",
    "o escore R2. O escore R2, também conhecido como coeficiente de determinação, é uma medida\n",
    "de bondade de uma previsão para um modelo de regressão e produz uma pontuação entre 0\n",
    "e 1. Um valor de 1 corresponde a uma previsão perfeita, e um valor de 0 corresponde a\n",
    "para um modelo constante que apenas prevê a média das respostas do conjunto de treinamento, y_train:"
   ]
  },
  {
   "cell_type": "code",
   "execution_count": 46,
   "metadata": {},
   "outputs": [],
   "source": [
    "por=reg.score(X_test,y_test)"
   ]
  },
  {
   "cell_type": "code",
   "execution_count": 49,
   "metadata": {},
   "outputs": [
    {
     "name": "stdout",
     "output_type": "stream",
     "text": [
      " Acuracy do modelo é de 41.67 %\n"
     ]
    }
   ],
   "source": [
    "print(\" Acuracy do modelo é de {:.2f} %\".format(por*100))"
   ]
  },
  {
   "cell_type": "markdown",
   "metadata": {},
   "source": [
    "# Analyzing KNeighborsRegressor\n",
    "Para o nosso conjunto de dados unidimensional, podemos ver como são as previsões para todos\n",
    "possíveis valores de recurso (Figura 2-10). Para fazer isso, criamos um conjunto de dados de teste que consiste em\n",
    "muitos pontos na linha:"
   ]
  },
  {
   "cell_type": "markdown",
   "metadata": {},
   "source": [
    "Como podemos ver no enredo, usando apenas um único vizinho, cada ponto no treinamento\n",
    "conjunto tem uma influência óbvia nas previsões, e os valores previstos passam\n",
    "todos os pontos de dados. Isso leva a uma previsão muito instável. Considerando mais\n",
    "vizinhos leva a previsões mais suaves, mas elas também não se ajustam aos dados de treinamento.\n",
    "Pontos fortes, pontos fracos e parâmetros\n",
    "Em princípio, existem dois parâmetros importantes para o classificador KNeighbors: o\n",
    "número de vizinhos e como você mede a distância entre os pontos de dados. Na prática,\n",
    "usando um pequeno número de vizinhos como três ou cinco, muitas vezes funciona bem, mas você deve\n",
    "certamente ajustar esse parâmetro. Escolhendo a medida de distância correta é um pouco\n",
    "além do escopo deste livro. Por padrão, a distância euclidiana é usada, o que funciona\n",
    "bem em muitos ambientes.\n",
    "Um dos pontos fortes do k-NN é que o modelo é muito fácil de entender e muitas vezes\n",
    "dá um desempenho razoável sem muitos ajustes. Usando este algoritmo é um\n",
    "bom método de linha de base para tentar antes de considerar técnicas mais avançadas. Construção\n",
    "o modelo de vizinhos mais próximos é geralmente muito rápido, mas quando o seu conjunto de treino é muito\n",
    "grande (em número de recursos ou em número de amostras), a previsão pode ser lenta.\n",
    "Ao usar o algoritmo k-NN, é importante pré-processar seus dados (consulte o Capítulo\n",
    "3). Essa abordagem geralmente não funciona bem em conjuntos de dados com muitos recursos\n",
    "(centenas ou mais), e isso é particularmente ruim com conjuntos de dados onde a maioria dos recursos\n",
    "são 0 na maior parte do tempo (os chamados conjuntos de dados esparsos).\n",
    "Então, enquanto o algoritmo k-neighbors mais próximo é fácil de entender, ele não é usado com frequência\n",
    "na prática, devido a previsão lenta e sua incapacidade de lidar com muitos recursos.\n",
    "O método que discutimos a seguir não tem nenhum desses inconvenientes."
   ]
  },
  {
   "cell_type": "markdown",
   "metadata": {},
   "source": [
    "# Linear Models\n",
    "Os modelos lineares são uma classe de modelos amplamente utilizados na prática e foram\n",
    "estudou extensivamente nas últimas décadas, com raízes que remontam a mais de cem\n",
    "anos. Modelos lineares fazem uma previsão usando uma função linear dos recursos de entrada,\n",
    "que vamos explicar em breve."
   ]
  },
  {
   "cell_type": "code",
   "execution_count": 51,
   "metadata": {},
   "outputs": [
    {
     "name": "stdout",
     "output_type": "stream",
     "text": [
      "w[0]: 0.393906  b: -0.031804\n"
     ]
    },
    {
     "data": {
      "image/png": "[encoded data removed]",
      "text/plain": [
       "<Figure size 576x576 with 1 Axes>"
      ]
     },
     "metadata": {
      "needs_background": "light"
     },
     "output_type": "display_data"
    }
   ],
   "source": [
    "mglearn.plots.plot_linear_regression_wave()"
   ]
  },
  {
   "cell_type": "markdown",
   "metadata": {},
   "source": [
    "Adicionamos uma cruz de coordenadas no gráfico para facilitar a compreensão da linha.\n",
    "Olhando para w [0], vemos que a inclinação deve ser em torno de 0,4, o que podemos confirmar\n",
    "visualmente na trama. A interceptação é onde a linha de previsão deve cruzar o eixo y:\n",
    "isso é um pouco abaixo de zero, o que você também pode confirmar na imagem.\n",
    "Modelos lineares de regressão podem ser caracterizados como modelos de regressão para os quais\n",
    "previsão é uma linha para um único recurso, um plano ao usar dois recursos ou um hiperplano\n",
    "em dimensões mais altas (ou seja, ao usar mais recursos).\n",
    "Se você comparar as previsões feitas pela linha reta com aquelas feitas pelo\n",
    "KNeighborsRegressor na Figura 2-10, usando uma linha reta para fazer previsões parece\n",
    "muito restritivo. Parece que todos os detalhes dos dados foram perdidos. De certo modo, isso é\n",
    "verdade. É uma suposição forte (e um tanto irrealista) de que o nosso alvo y é um"
   ]
  },
  {
   "cell_type": "markdown",
   "metadata": {},
   "source": [
    "combinação dos recursos. Mas olhando dados unidimensionais dá um pouco\n",
    "perspectiva distorcida. Para conjuntos de dados com muitos recursos, os modelos lineares podem ser muito poderosos.\n",
    "Em particular, se você tiver mais recursos do que pontos de dados de treinamento,\n",
    "pode ser perfeitamente modelado (no conjunto de treinamento) como uma função linear.\n",
    "Existem muitos modelos lineares diferentes para regressão. A diferença entre estes\n",
    "modelos está em como os parâmetros w e b do modelo são aprendidos a partir dos dados de treinamento,\n",
    "e como a complexidade do modelo pode ser controlada. Vamos agora dar uma olhada no mais\n",
    "modelos lineares populares para regressão.\n",
    "Regressão Linear (aka mínimos quadrados ordinários)\n",
    "A regressão linear, ou mínimos quadrados ordinários (OLS), é a linear mais simples e clássica\n",
    "método de regressão. A regressão linear encontra os parâmetros w e b que minimizam\n",
    "o erro médio quadrático entre as previsões e os alvos reais de regressão, y\n",
    "no conjunto de treinamento. O erro quadrático médio é a soma das diferenças quadradas\n",
    "entre as previsões e os valores verdadeiros. A regressão linear não tem parâmetros,\n",
    "o que é um benefício, mas também não tem como controlar a complexidade do modelo."
   ]
  },
  {
   "cell_type": "code",
   "execution_count": 52,
   "metadata": {},
   "outputs": [],
   "source": [
    "# page 47 livro"
   ]
  }
 ],
 "metadata": {
  "kernelspec": {
   "display_name": "Python 3",
   "language": "python",
   "name": "python3"
  },
  "language_info": {
   "codemirror_mode": {
    "name": "ipython",
    "version": 3
   },
   "file_extension": ".py",
   "mimetype": "text/x-python",
   "name": "python",
   "nbconvert_exporter": "python",
   "pygments_lexer": "ipython3",
   "version": "3.7.1"
  }
 },
 "nbformat": 4,
 "nbformat_minor": 2
}
