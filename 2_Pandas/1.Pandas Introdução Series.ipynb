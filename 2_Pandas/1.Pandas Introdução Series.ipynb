{
 "cells": [
  {
   "cell_type": "markdown",
   "metadata": {},
   "source": [
    "# Introdução ao pandas\n",
    "os pandas serão uma das principais ferramentas de interesse em grande parte do restante do livro. isto\n",
    "contém estruturas de dados e ferramentas de manipulação de dados projetadas para facilitar a limpeza de dados\n",
    "e análise rápida e fácil em Python. pandas é freqüentemente usado em conjunto com números\n",
    "ferramentas de computação como NumPy e SciPy, bibliotecas analíticas como statsmodels e\n",
    "scikit-learn e bibliotecas de visualização de dados como matplotlib. pandas adota significante\n",
    "partes do estilo idiomático da NumPy de computação baseada em array, especialmente com base em array\n",
    "funções e uma preferência pelo processamento de dados sem loops.\n",
    "Enquanto os pandas adotam muitos idiomas de codificação do NumPy, a maior diferença é que\n",
    "O pandas foi desenvolvido para trabalhar com dados tabulares ou heterogêneos. NumPy, por con-\n",
    "trast, é mais adequado para trabalhar com dados numéricos homogêneos da matriz.\n",
    "Desde que se tornou um projeto de código aberto em 2010, os pandas amadureceram\n",
    "grande biblioteca aplicável a um amplo conjunto de casos de uso do mundo real. O desenvolvedor\n",
    "comunidade cresceu para mais de 800 colaboradores distintos, que têm ajudado a criar\n",
    "o projeto como eles o usaram para resolver seus problemas diários de dados.\n",
    "No restante do livro, uso a seguinte convenção de importação para pandas:"
   ]
  },
  {
   "cell_type": "code",
   "execution_count": 1,
   "metadata": {},
   "outputs": [],
   "source": [
    "import pandas as pd"
   ]
  },
  {
   "cell_type": "markdown",
   "metadata": {},
   "source": [
    "## Introdução às estruturas de dados do pandas\n",
    "Para começar com os pandas, você precisará se sentir confortável com seus dois cavalos de batalha\n",
    "estruturas de dados: Series e DataFrame. Embora não sejam uma solução universal para\n",
    "Em qualquer problema, eles fornecem uma base sólida e fácil de usar para a maioria dos aplicativos.\n",
    "## Series\n",
    "A Series é um objeto unidimensional do tipo array que contém uma sequência de valores (de\n",
    "tipos semelhantes aos tipos NumPy) e uma matriz associada de rótulos de dados, denominada índice.\n",
    "A série mais simples é formada a partir de apenas uma matriz de dados:"
   ]
  },
  {
   "cell_type": "code",
   "execution_count": 4,
   "metadata": {},
   "outputs": [
    {
     "data": {
      "text/plain": [
       "0    4\n",
       "1    7\n",
       "2   -5\n",
       "3    3\n",
       "dtype: int64"
      ]
     },
     "execution_count": 4,
     "metadata": {},
     "output_type": "execute_result"
    }
   ],
   "source": [
    "obj = pd.Series([4,7,-5,3])\n",
    "obj"
   ]
  },
  {
   "cell_type": "markdown",
   "metadata": {},
   "source": [
    "A representação em cadeia de uma série exibida interativamente mostra o índice no\n",
    "esquerda e os valores à direita. Como não especificamos um índice para os dados, um\n",
    "o padrão consiste nos números inteiros de 0 a N - 1 (onde N é o comprimento do\n",
    "dados) é criado. Você pode obter a representação do array e o objeto de índice da série via\n",
    "seus valores e atributos de índice, respectivamente:"
   ]
  },
  {
   "cell_type": "code",
   "execution_count": 7,
   "metadata": {},
   "outputs": [
    {
     "data": {
      "text/plain": [
       "array([ 4,  7, -5,  3], dtype=int64)"
      ]
     },
     "execution_count": 7,
     "metadata": {},
     "output_type": "execute_result"
    }
   ],
   "source": [
    "obj.values"
   ]
  },
  {
   "cell_type": "code",
   "execution_count": 8,
   "metadata": {},
   "outputs": [
    {
     "data": {
      "text/plain": [
       "RangeIndex(start=0, stop=4, step=1)"
      ]
     },
     "execution_count": 8,
     "metadata": {},
     "output_type": "execute_result"
    }
   ],
   "source": [
    "obj.index"
   ]
  },
  {
   "cell_type": "markdown",
   "metadata": {},
   "source": [
    "Muitas vezes, é desejável criar uma série com um índice que identifique cada ponto de dados\n",
    "com um rótulo:"
   ]
  },
  {
   "cell_type": "code",
   "execution_count": 9,
   "metadata": {},
   "outputs": [
    {
     "data": {
      "text/plain": [
       "d    4\n",
       "b    7\n",
       "a   -5\n",
       "c    3\n",
       "dtype: int64"
      ]
     },
     "execution_count": 9,
     "metadata": {},
     "output_type": "execute_result"
    }
   ],
   "source": [
    "obj2 = pd.Series([4,7,-5,3],index = ['d','b','a','c'])\n",
    "obj2"
   ]
  },
  {
   "cell_type": "code",
   "execution_count": 10,
   "metadata": {},
   "outputs": [
    {
     "data": {
      "text/plain": [
       "Index(['d', 'b', 'a', 'c'], dtype='object')"
      ]
     },
     "execution_count": 10,
     "metadata": {},
     "output_type": "execute_result"
    }
   ],
   "source": [
    "obj2.index"
   ]
  },
  {
   "cell_type": "markdown",
   "metadata": {},
   "source": [
    "Comparado com matrizes NumPy, você pode usar rótulos no índice ao selecionar um\n",
    "valores ou um conjunto de valores:"
   ]
  },
  {
   "cell_type": "markdown",
   "metadata": {},
   "source": [
    "Aqui ['c', 'a', 'd'] é interpretado como uma lista de índices, mesmo que contenha\n",
    "strings em vez de números inteiros.\n",
    "Usando funções NumPy ou operações semelhantes a NumPy, como filtrar com um valor booleano\n",
    "matriz, multiplicação escalar ou aplicação de funções matemáticas preservarão o valor do índice\n",
    "ligação:"
   ]
  },
  {
   "cell_type": "code",
   "execution_count": 12,
   "metadata": {},
   "outputs": [
    {
     "data": {
      "text/plain": [
       "d    4\n",
       "b    7\n",
       "c    3\n",
       "dtype: int64"
      ]
     },
     "execution_count": 12,
     "metadata": {},
     "output_type": "execute_result"
    }
   ],
   "source": [
    "obj2[obj2 > 0]"
   ]
  },
  {
   "cell_type": "code",
   "execution_count": 13,
   "metadata": {},
   "outputs": [
    {
     "data": {
      "text/plain": [
       "d     8\n",
       "b    14\n",
       "a   -10\n",
       "c     6\n",
       "dtype: int64"
      ]
     },
     "execution_count": 13,
     "metadata": {},
     "output_type": "execute_result"
    }
   ],
   "source": [
    "obj2 * 2"
   ]
  },
  {
   "cell_type": "code",
   "execution_count": 14,
   "metadata": {},
   "outputs": [],
   "source": [
    "import numpy as np"
   ]
  },
  {
   "cell_type": "code",
   "execution_count": 15,
   "metadata": {},
   "outputs": [
    {
     "data": {
      "text/plain": [
       "d      54.598150\n",
       "b    1096.633158\n",
       "a       0.006738\n",
       "c      20.085537\n",
       "dtype: float64"
      ]
     },
     "execution_count": 15,
     "metadata": {},
     "output_type": "execute_result"
    }
   ],
   "source": [
    "np.exp(obj2)"
   ]
  },
  {
   "cell_type": "markdown",
   "metadata": {},
   "source": [
    "Outra maneira de pensar sobre uma série é como um ditado ordenado de comprimento fixo, pois é um mapa\n",
    "ping de valores de índice para valores de dados. Pode ser usado em muitos contextos onde você pode\n",
    "use um ditado:"
   ]
  },
  {
   "cell_type": "code",
   "execution_count": 16,
   "metadata": {},
   "outputs": [
    {
     "data": {
      "text/plain": [
       "True"
      ]
     },
     "execution_count": 16,
     "metadata": {},
     "output_type": "execute_result"
    }
   ],
   "source": [
    "'b' in obj2"
   ]
  },
  {
   "cell_type": "code",
   "execution_count": 17,
   "metadata": {},
   "outputs": [
    {
     "data": {
      "text/plain": [
       "False"
      ]
     },
     "execution_count": 17,
     "metadata": {},
     "output_type": "execute_result"
    }
   ],
   "source": [
    "'e' in obj2"
   ]
  },
  {
   "cell_type": "markdown",
   "metadata": {},
   "source": [
    "Se você tiver dados contidos em um ditado Python, poderá criar uma série a partir dele\n",
    "passando o ditado:"
   ]
  },
  {
   "cell_type": "code",
   "execution_count": 18,
   "metadata": {},
   "outputs": [],
   "source": [
    "sdata = {'Ohio':35000,'Texas':75000,'Oregon':16000,'Utah':5000}"
   ]
  },
  {
   "cell_type": "code",
   "execution_count": 19,
   "metadata": {},
   "outputs": [],
   "source": [
    "obj3 = pd.Series(sdata)"
   ]
  },
  {
   "cell_type": "code",
   "execution_count": 20,
   "metadata": {},
   "outputs": [
    {
     "data": {
      "text/plain": [
       "Ohio      35000\n",
       "Texas     75000\n",
       "Oregon    16000\n",
       "Utah       5000\n",
       "dtype: int64"
      ]
     },
     "execution_count": 20,
     "metadata": {},
     "output_type": "execute_result"
    }
   ],
   "source": [
    "obj3"
   ]
  },
  {
   "cell_type": "markdown",
   "metadata": {},
   "source": [
    "Quando você passa apenas um ditado, o índice na série resultante terá o ditado\n",
    "chaves em ordem classificada. Você pode substituir isso, passando as chaves dict na ordem em que\n",
    "deseja que eles apareçam na série resultante:"
   ]
  },
  {
   "cell_type": "code",
   "execution_count": 21,
   "metadata": {},
   "outputs": [],
   "source": [
    "states = {'California','Ohio','Oregon','Texas'}"
   ]
  },
  {
   "cell_type": "code",
   "execution_count": 22,
   "metadata": {},
   "outputs": [
    {
     "data": {
      "text/plain": [
       "California        NaN\n",
       "Ohio          35000.0\n",
       "Texas         75000.0\n",
       "Oregon        16000.0\n",
       "dtype: float64"
      ]
     },
     "execution_count": 22,
     "metadata": {},
     "output_type": "execute_result"
    }
   ],
   "source": [
    "obj4 = pd.Series(sdata,index = states)\n",
    "obj4"
   ]
  },
  {
   "cell_type": "markdown",
   "metadata": {},
   "source": [
    "Aqui, três valores encontrados em sdata foram colocados nos locais apropriados, mas desde\n",
    "nenhum valor para 'Califórnia' foi encontrado, ele aparece como NaN (não um número), que é con-\n",
    "considerado em pandas para marcar valores ausentes ou NA. Como 'Utah' não foi incluído no\n",
    "estados, ele é excluído do objeto resultante.\n",
    "\n",
    "Usarei os termos \"ausente\" ou \"NA\" de forma intercambiável para me referir a dados ausentes. o\n",
    "As funções isnull e notnull no pandas devem ser usadas para detectar dados ausentes:"
   ]
  },
  {
   "cell_type": "code",
   "execution_count": 23,
   "metadata": {},
   "outputs": [
    {
     "data": {
      "text/plain": [
       "California     True\n",
       "Ohio          False\n",
       "Texas         False\n",
       "Oregon        False\n",
       "dtype: bool"
      ]
     },
     "execution_count": 23,
     "metadata": {},
     "output_type": "execute_result"
    }
   ],
   "source": [
    "pd.isnull(obj4)"
   ]
  },
  {
   "cell_type": "code",
   "execution_count": 24,
   "metadata": {},
   "outputs": [
    {
     "data": {
      "text/plain": [
       "California    False\n",
       "Ohio           True\n",
       "Texas          True\n",
       "Oregon         True\n",
       "dtype: bool"
      ]
     },
     "execution_count": 24,
     "metadata": {},
     "output_type": "execute_result"
    }
   ],
   "source": [
    "pd.notnull(obj4)"
   ]
  },
  {
   "cell_type": "code",
   "execution_count": 25,
   "metadata": {},
   "outputs": [
    {
     "data": {
      "text/plain": [
       "California     True\n",
       "Ohio          False\n",
       "Texas         False\n",
       "Oregon        False\n",
       "dtype: bool"
      ]
     },
     "execution_count": 25,
     "metadata": {},
     "output_type": "execute_result"
    }
   ],
   "source": [
    "obj4.isnull()"
   ]
  },
  {
   "cell_type": "markdown",
   "metadata": {},
   "source": [
    "Discuto o trabalho com dados ausentes com mais detalhes no Capítulo 7.\n",
    "Um recurso útil da série para muitos aplicativos é o alinhamento automático por índice\n",
    "etiqueta em operações aritméticas:"
   ]
  },
  {
   "cell_type": "code",
   "execution_count": 26,
   "metadata": {},
   "outputs": [
    {
     "data": {
      "text/plain": [
       "Ohio      35000\n",
       "Texas     75000\n",
       "Oregon    16000\n",
       "Utah       5000\n",
       "dtype: int64"
      ]
     },
     "execution_count": 26,
     "metadata": {},
     "output_type": "execute_result"
    }
   ],
   "source": [
    "obj3"
   ]
  },
  {
   "cell_type": "code",
   "execution_count": 27,
   "metadata": {},
   "outputs": [
    {
     "data": {
      "text/plain": [
       "California        NaN\n",
       "Ohio          35000.0\n",
       "Texas         75000.0\n",
       "Oregon        16000.0\n",
       "dtype: float64"
      ]
     },
     "execution_count": 27,
     "metadata": {},
     "output_type": "execute_result"
    }
   ],
   "source": [
    "obj4"
   ]
  },
  {
   "cell_type": "code",
   "execution_count": 28,
   "metadata": {},
   "outputs": [
    {
     "data": {
      "text/plain": [
       "California         NaN\n",
       "Ohio           70000.0\n",
       "Oregon         32000.0\n",
       "Texas         150000.0\n",
       "Utah               NaN\n",
       "dtype: float64"
      ]
     },
     "execution_count": 28,
     "metadata": {},
     "output_type": "execute_result"
    }
   ],
   "source": [
    "obj3 + obj4"
   ]
  },
  {
   "cell_type": "markdown",
   "metadata": {},
   "source": [
    "Os recursos de alinhamento de dados serão abordados com mais detalhes posteriormente. Se você tem experiência\n",
    "com bancos de dados, você pode pensar nisso como sendo semelhante a uma operação de junção.\n",
    "\n",
    "O próprio objeto Series e seu índice têm um atributo name, que se integra ao\n",
    "outras áreas-chave da funcionalidade dos pandas:"
   ]
  },
  {
   "cell_type": "code",
   "execution_count": 29,
   "metadata": {},
   "outputs": [],
   "source": [
    "obj4.name = 'population'"
   ]
  },
  {
   "cell_type": "code",
   "execution_count": 31,
   "metadata": {},
   "outputs": [],
   "source": [
    "obj4.index.name = 'states'"
   ]
  },
  {
   "cell_type": "code",
   "execution_count": 32,
   "metadata": {},
   "outputs": [
    {
     "data": {
      "text/plain": [
       "states\n",
       "California        NaN\n",
       "Ohio          35000.0\n",
       "Texas         75000.0\n",
       "Oregon        16000.0\n",
       "Name: population, dtype: float64"
      ]
     },
     "execution_count": 32,
     "metadata": {},
     "output_type": "execute_result"
    }
   ],
   "source": [
    "obj4"
   ]
  },
  {
   "cell_type": "markdown",
   "metadata": {},
   "source": [
    "O índice de uma série pode ser alterado no local por atribuição:"
   ]
  },
  {
   "cell_type": "code",
   "execution_count": 33,
   "metadata": {},
   "outputs": [
    {
     "data": {
      "text/plain": [
       "0    4\n",
       "1    7\n",
       "2   -5\n",
       "3    3\n",
       "dtype: int64"
      ]
     },
     "execution_count": 33,
     "metadata": {},
     "output_type": "execute_result"
    }
   ],
   "source": [
    "obj"
   ]
  },
  {
   "cell_type": "code",
   "execution_count": 34,
   "metadata": {},
   "outputs": [
    {
     "data": {
      "text/plain": [
       "bob      4\n",
       "steve    7\n",
       "jeff    -5\n",
       "rian     3\n",
       "dtype: int64"
      ]
     },
     "execution_count": 34,
     "metadata": {},
     "output_type": "execute_result"
    }
   ],
   "source": [
    "obj.index = ['bob','steve','jeff','rian']\n",
    "obj"
   ]
  }
 ],
 "metadata": {
  "kernelspec": {
   "display_name": "Python 3",
   "language": "python",
   "name": "python3"
  },
  "language_info": {
   "codemirror_mode": {
    "name": "ipython",
    "version": 3
   },
   "file_extension": ".py",
   "mimetype": "text/x-python",
   "name": "python",
   "nbconvert_exporter": "python",
   "pygments_lexer": "ipython3",
   "version": "3.7.1"
  }
 },
 "nbformat": 4,
 "nbformat_minor": 2
}
