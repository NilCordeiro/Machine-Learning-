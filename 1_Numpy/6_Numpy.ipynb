{
 "cells": [
  {
   "cell_type": "markdown",
   "metadata": {},
   "source": [
    "## Programação orientada a matrizes com matrizes\n",
    "O uso de matrizes NumPy permite expressar muitos tipos de tarefas de processamento de dados, como\n",
    "expressões de matriz concisas que, de outra forma, poderiam exigir loops de gravação. Essa prática de\n",
    "a substituição de loops explícitos por expressões de matriz é geralmente chamada de vetorização.\n",
    "Em geral, as operações de matriz vetorizadas geralmente são de um ou dois (ou mais) pedidos\n",
    "de magnitude mais rápido que seus equivalentes puros em Python, com o maior impacto em\n",
    "qualquer tipo de computação numérica. Mais tarde, no Apêndice A, explico a transmissão, um\n",
    "método poderoso para vetorização de cálculos.\n",
    "\n",
    "Como um exemplo simples, suponha que desejássemos avaliar a função sqrt (x ^ 2 + y ^ 2)\n",
    "através de uma grade regular de valores. A função np.meshgrid usa duas matrizes 1D e\n",
    "produz duas matrizes 2D correspondentes a todos os pares de (x, y) nas duas matrizes:"
   ]
  },
  {
   "cell_type": "code",
   "execution_count": 2,
   "metadata": {},
   "outputs": [],
   "source": [
    "import numpy as np"
   ]
  },
  {
   "cell_type": "code",
   "execution_count": 2,
   "metadata": {},
   "outputs": [],
   "source": [
    "points = np.arange(-5,5,0.01)"
   ]
  },
  {
   "cell_type": "code",
   "execution_count": 10,
   "metadata": {},
   "outputs": [],
   "source": [
    "xs,ys =  np.meshgrid(points,points)"
   ]
  },
  {
   "cell_type": "code",
   "execution_count": 12,
   "metadata": {},
   "outputs": [
    {
     "data": {
      "text/plain": [
       "array([[-5.  , -4.99, -4.98, ...,  4.97,  4.98,  4.99],\n",
       "       [-5.  , -4.99, -4.98, ...,  4.97,  4.98,  4.99],\n",
       "       [-5.  , -4.99, -4.98, ...,  4.97,  4.98,  4.99],\n",
       "       ...,\n",
       "       [-5.  , -4.99, -4.98, ...,  4.97,  4.98,  4.99],\n",
       "       [-5.  , -4.99, -4.98, ...,  4.97,  4.98,  4.99],\n",
       "       [-5.  , -4.99, -4.98, ...,  4.97,  4.98,  4.99]])"
      ]
     },
     "execution_count": 12,
     "metadata": {},
     "output_type": "execute_result"
    }
   ],
   "source": [
    "xs"
   ]
  },
  {
   "cell_type": "code",
   "execution_count": 13,
   "metadata": {},
   "outputs": [
    {
     "data": {
      "text/plain": [
       "array([[-5.  , -5.  , -5.  , ..., -5.  , -5.  , -5.  ],\n",
       "       [-4.99, -4.99, -4.99, ..., -4.99, -4.99, -4.99],\n",
       "       [-4.98, -4.98, -4.98, ..., -4.98, -4.98, -4.98],\n",
       "       ...,\n",
       "       [ 4.97,  4.97,  4.97, ...,  4.97,  4.97,  4.97],\n",
       "       [ 4.98,  4.98,  4.98, ...,  4.98,  4.98,  4.98],\n",
       "       [ 4.99,  4.99,  4.99, ...,  4.99,  4.99,  4.99]])"
      ]
     },
     "execution_count": 13,
     "metadata": {},
     "output_type": "execute_result"
    }
   ],
   "source": [
    "ys"
   ]
  },
  {
   "cell_type": "markdown",
   "metadata": {},
   "source": [
    "Agora, avaliar a função é uma questão de escrever a mesma expressão que você faria\n",
    "escreva com dois pontos:"
   ]
  },
  {
   "cell_type": "code",
   "execution_count": 14,
   "metadata": {},
   "outputs": [
    {
     "data": {
      "text/plain": [
       "array([[7.07106781, 7.06400028, 7.05693985, ..., 7.04988652, 7.05693985,\n",
       "        7.06400028],\n",
       "       [7.06400028, 7.05692568, 7.04985815, ..., 7.04279774, 7.04985815,\n",
       "        7.05692568],\n",
       "       [7.05693985, 7.04985815, 7.04278354, ..., 7.03571603, 7.04278354,\n",
       "        7.04985815],\n",
       "       ...,\n",
       "       [7.04988652, 7.04279774, 7.03571603, ..., 7.0286414 , 7.03571603,\n",
       "        7.04279774],\n",
       "       [7.05693985, 7.04985815, 7.04278354, ..., 7.03571603, 7.04278354,\n",
       "        7.04985815],\n",
       "       [7.06400028, 7.05692568, 7.04985815, ..., 7.04279774, 7.04985815,\n",
       "        7.05692568]])"
      ]
     },
     "execution_count": 14,
     "metadata": {},
     "output_type": "execute_result"
    }
   ],
   "source": [
    "z = np.sqrt(xs ** 2 + ys ** 2)\n",
    "z"
   ]
  },
  {
   "cell_type": "markdown",
   "metadata": {},
   "source": [
    "## Expressando lógica condicional como operações de matriz\n",
    "A função numpy.where é uma versão vetorizada da expressão ternária x se\n",
    "dition else y. Suponha que tivéssemos uma matriz booleana e duas matrizes de valores:"
   ]
  },
  {
   "cell_type": "code",
   "execution_count": 15,
   "metadata": {},
   "outputs": [],
   "source": [
    "xarr = np.array([1.1, 1.2, 1.3, 1.4, 1.5])\n",
    "yarr = np.array([2.1, 2.2, 2.3, 2.4, 2.5])\n",
    "cond = np.array([True,False,True,True,False])"
   ]
  },
  {
   "cell_type": "markdown",
   "metadata": {},
   "source": [
    "Suponha que desejássemos obter um valor de xarr sempre que o valor correspondente em\n",
    "cond é True e, de outro modo, retira o valor de yarr. Uma compreensão de lista fazendo\n",
    "isso pode se parecer com:"
   ]
  },
  {
   "cell_type": "code",
   "execution_count": 19,
   "metadata": {},
   "outputs": [],
   "source": [
    "resultado = [(x if c else y)\n",
    "    for  x,y, c in zip(xarr,yarr,cond)]"
   ]
  },
  {
   "cell_type": "code",
   "execution_count": 20,
   "metadata": {},
   "outputs": [
    {
     "data": {
      "text/plain": [
       "[1.1, 2.2, 1.3, 1.4, 2.5]"
      ]
     },
     "execution_count": 20,
     "metadata": {},
     "output_type": "execute_result"
    }
   ],
   "source": [
    "resultado"
   ]
  },
  {
   "cell_type": "markdown",
   "metadata": {},
   "source": [
    "This has multiple problems. First, it will not be very fast for large arrays (because all\n",
    "the work is being done in interpreted Python code). Second, it will not work with\n",
    "multidimensional arrays. With np.where you can write this very concisely:"
   ]
  },
  {
   "cell_type": "code",
   "execution_count": 21,
   "metadata": {},
   "outputs": [
    {
     "data": {
      "text/plain": [
       "array([1.1, 2.2, 1.3, 1.4, 2.5])"
      ]
     },
     "execution_count": 21,
     "metadata": {},
     "output_type": "execute_result"
    }
   ],
   "source": [
    "resultado = np.where(cond,xarr,yarr)\n",
    "resultado"
   ]
  },
  {
   "cell_type": "markdown",
   "metadata": {},
   "source": [
    "The second and third arguments to np.where don’t need to be arrays; one or both of\n",
    "them can be scalars. A typical use of where in data analysis is to produce a new array\n",
    "of values based on another array. Suppose you had a matrix of randomly generated\n",
    "data and you wanted to replace all positive values with 2 and all negative values with\n",
    "–2. This is very easy to do with np.where:"
   ]
  },
  {
   "cell_type": "code",
   "execution_count": 22,
   "metadata": {},
   "outputs": [
    {
     "data": {
      "text/plain": [
       "array([[-0.41841153,  0.41005016,  2.02326169, -0.07607411],\n",
       "       [ 0.37478554,  0.25965889,  0.90671819,  0.70446623],\n",
       "       [-0.80237938,  0.45328147, -0.7914594 , -0.24572707],\n",
       "       [ 0.93492739,  0.07569527, -1.56328285, -0.40979771]])"
      ]
     },
     "execution_count": 22,
     "metadata": {},
     "output_type": "execute_result"
    }
   ],
   "source": [
    "arr = np.random.randn(4,4)\n",
    "arr"
   ]
  },
  {
   "cell_type": "code",
   "execution_count": 23,
   "metadata": {},
   "outputs": [
    {
     "data": {
      "text/plain": [
       "array([[False,  True,  True, False],\n",
       "       [ True,  True,  True,  True],\n",
       "       [False,  True, False, False],\n",
       "       [ True,  True, False, False]])"
      ]
     },
     "execution_count": 23,
     "metadata": {},
     "output_type": "execute_result"
    }
   ],
   "source": [
    "arr > 0"
   ]
  },
  {
   "cell_type": "code",
   "execution_count": 24,
   "metadata": {},
   "outputs": [
    {
     "data": {
      "text/plain": [
       "array([[-2,  2,  2, -2],\n",
       "       [ 2,  2,  2,  2],\n",
       "       [-2,  2, -2, -2],\n",
       "       [ 2,  2, -2, -2]])"
      ]
     },
     "execution_count": 24,
     "metadata": {},
     "output_type": "execute_result"
    }
   ],
   "source": [
    "np.where(arr >0,2,-2)"
   ]
  },
  {
   "cell_type": "markdown",
   "metadata": {},
   "source": [
    "## Métodos Matemáticos e Estatísticos\n",
    "Um conjunto de funções matemáticas que calculam estatísticas sobre uma matriz inteira ou sobre\n",
    "os dados ao longo de um eixo são acessíveis como métodos da classe array. Você pode usar agregações\n",
    "(geralmente chamadas de reduções) como soma, média e desvio padrão (desvio padrão)\n",
    "chamando o método de instância da matriz ou usando a função NumPy de nível superior.\n",
    "Aqui eu gero alguns dados aleatórios distribuídos normalmente e calculo alguns agregados\n",
    "Estatisticas:"
   ]
  },
  {
   "cell_type": "code",
   "execution_count": 25,
   "metadata": {},
   "outputs": [
    {
     "data": {
      "text/plain": [
       "array([[-0.2928843 , -0.94152034, -0.6986818 ,  1.52921835],\n",
       "       [-1.38792544,  0.03449832, -0.61522329, -0.18353721],\n",
       "       [ 0.11841061, -0.02062732,  0.63420727, -1.42033622],\n",
       "       [ 0.28810363, -0.89788425,  2.11833359,  0.51006335],\n",
       "       [-0.22990766,  1.53499527,  1.81050948,  0.31121849]])"
      ]
     },
     "execution_count": 25,
     "metadata": {},
     "output_type": "execute_result"
    }
   ],
   "source": [
    "arr = np.random.randn(5,4)\n",
    "arr"
   ]
  },
  {
   "cell_type": "code",
   "execution_count": 29,
   "metadata": {},
   "outputs": [
    {
     "name": "stdout",
     "output_type": "stream",
     "text": [
      "A média da matrix 0.11005152625224199\n"
     ]
    }
   ],
   "source": [
    "print('A média da matrix {}'.format(arr.mean()))"
   ]
  },
  {
   "cell_type": "code",
   "execution_count": 30,
   "metadata": {},
   "outputs": [
    {
     "data": {
      "text/plain": [
       "0.11005152625224199"
      ]
     },
     "execution_count": 30,
     "metadata": {},
     "output_type": "execute_result"
    }
   ],
   "source": [
    "np.mean(arr) # uma outra forma de calcular a média "
   ]
  },
  {
   "cell_type": "code",
   "execution_count": 31,
   "metadata": {},
   "outputs": [
    {
     "data": {
      "text/plain": [
       "2.20103052504484"
      ]
     },
     "execution_count": 31,
     "metadata": {},
     "output_type": "execute_result"
    }
   ],
   "source": [
    "arr.sum()"
   ]
  },
  {
   "cell_type": "markdown",
   "metadata": {},
   "source": [
    "Funções como média e soma usam um argumento de eixo opcional que calcula a estatística\n",
    "sobre o eixo especificado, resultando em uma matriz com uma dimensão a menos:"
   ]
  },
  {
   "cell_type": "code",
   "execution_count": 32,
   "metadata": {},
   "outputs": [
    {
     "data": {
      "text/plain": [
       "array([-0.10096702, -0.53804691, -0.17208641,  0.50465408,  0.85670389])"
      ]
     },
     "execution_count": 32,
     "metadata": {},
     "output_type": "execute_result"
    }
   ],
   "source": [
    "arr.mean(axis = 1)"
   ]
  },
  {
   "cell_type": "code",
   "execution_count": 33,
   "metadata": {},
   "outputs": [
    {
     "data": {
      "text/plain": [
       "array([-1.50420317, -0.29053832,  3.24914525,  0.74662676])"
      ]
     },
     "execution_count": 33,
     "metadata": {},
     "output_type": "execute_result"
    }
   ],
   "source": [
    "arr.sum(axis = 0)"
   ]
  },
  {
   "cell_type": "markdown",
   "metadata": {},
   "source": [
    "Aqui, arr.mean (1) significa \"calcular a média nas colunas\", em que arr.sum (0)\n",
    "significa \"calcular a soma das linhas\".\n",
    "Outros métodos como cumsum e cumprod não agregam, produzindo uma matriz\n",
    "dos resultados intermediários:"
   ]
  },
  {
   "cell_type": "code",
   "execution_count": 35,
   "metadata": {},
   "outputs": [],
   "source": [
    "arr = np.array([0,1,2,3,4,5,6,7])"
   ]
  },
  {
   "cell_type": "code",
   "execution_count": 36,
   "metadata": {},
   "outputs": [
    {
     "data": {
      "text/plain": [
       "array([ 0,  1,  3,  6, 10, 15, 21, 28], dtype=int32)"
      ]
     },
     "execution_count": 36,
     "metadata": {},
     "output_type": "execute_result"
    }
   ],
   "source": [
    "arr.cumsum()"
   ]
  },
  {
   "cell_type": "markdown",
   "metadata": {},
   "source": [
    "In multidimensional arrays, accumulation functions like cumsum return an array of\n",
    "the same size, but with the partial aggregates computed along the indicated axis\n",
    "according to each lower dimensional slice:"
   ]
  },
  {
   "cell_type": "code",
   "execution_count": 37,
   "metadata": {},
   "outputs": [
    {
     "data": {
      "text/plain": [
       "array([[0, 1, 2],\n",
       "       [3, 4, 5],\n",
       "       [6, 7, 8]])"
      ]
     },
     "execution_count": 37,
     "metadata": {},
     "output_type": "execute_result"
    }
   ],
   "source": [
    "arr = np.array([[0,1,2],[3,4,5],[6,7,8]])\n",
    "arr"
   ]
  },
  {
   "cell_type": "code",
   "execution_count": 38,
   "metadata": {},
   "outputs": [
    {
     "data": {
      "text/plain": [
       "array([[ 0,  1,  2],\n",
       "       [ 3,  5,  7],\n",
       "       [ 9, 12, 15]], dtype=int32)"
      ]
     },
     "execution_count": 38,
     "metadata": {},
     "output_type": "execute_result"
    }
   ],
   "source": [
    "arr.cumsum(axis = 0)"
   ]
  },
  {
   "cell_type": "code",
   "execution_count": 39,
   "metadata": {},
   "outputs": [
    {
     "data": {
      "text/plain": [
       "array([[  0,   0,   0],\n",
       "       [  3,  12,  60],\n",
       "       [  6,  42, 336]], dtype=int32)"
      ]
     },
     "execution_count": 39,
     "metadata": {},
     "output_type": "execute_result"
    }
   ],
   "source": [
    "arr.cumprod(axis = 1)"
   ]
  },
  {
   "cell_type": "markdown",
   "metadata": {},
   "source": [
    "## Métodos para matrizes booleanas\n",
    "Os valores booleanos são coagidos a 1 (True) e 0 (False) nos métodos anteriores. Portanto,\n",
    "sum é frequentemente usado como um meio de contar valores True em uma matriz booleana:"
   ]
  },
  {
   "cell_type": "code",
   "execution_count": 40,
   "metadata": {},
   "outputs": [
    {
     "data": {
      "text/plain": [
       "array([-0.08347424,  1.42917186,  2.30077452, -0.30711196,  1.62476058,\n",
       "       -0.29689588,  0.5906831 ,  0.07294442, -0.07151872, -0.63998734,\n",
       "        1.87338256,  0.99455979, -0.64583734, -0.55928882,  0.35333657,\n",
       "        1.92298667, -1.77637407,  0.81372706, -1.04705552, -0.06647282,\n",
       "       -1.14312097,  1.07989797,  1.31042853,  0.54567339,  1.22664315,\n",
       "       -0.28415325, -2.19608316, -0.40797956,  0.97679983, -0.22928594,\n",
       "       -0.07601339, -0.2721234 ,  1.44524585,  0.1433081 , -0.39756935,\n",
       "        0.91337736, -1.77890897, -0.7291493 , -1.50623422, -0.05220205,\n",
       "       -0.05047092,  0.92517532, -0.13704924,  1.5018105 , -0.34848111,\n",
       "       -1.6712488 , -0.619628  , -0.11070087, -1.27403467, -0.43666977,\n",
       "        0.79872769,  0.3571057 , -0.17432892, -0.61254475,  2.68184792,\n",
       "       -1.34492865,  0.15922703,  1.32499067, -0.61276125,  0.642378  ,\n",
       "       -1.82338922, -0.29956646,  1.81881196, -0.32577729, -0.16121037,\n",
       "       -0.06328298, -1.24447775, -0.1682071 ,  0.70347125,  1.12565622,\n",
       "       -0.72521581,  0.11239106, -0.41339308,  0.13239044, -0.91788595,\n",
       "        2.00210301,  0.43886382,  0.55549015,  0.26469945,  0.29381936,\n",
       "       -0.30376723,  0.74749925, -1.18750699,  0.8944437 , -1.12947746,\n",
       "       -1.03055749,  0.18177806,  0.21758765, -1.60912729, -2.06843401,\n",
       "       -0.6496911 , -1.27645703,  0.47127061, -0.48720902, -1.48740765,\n",
       "        1.21454711,  0.51220692, -0.52023266, -0.68982996, -1.06493287])"
      ]
     },
     "execution_count": 40,
     "metadata": {},
     "output_type": "execute_result"
    }
   ],
   "source": [
    "arr = np.random.randn(100)\n",
    "arr"
   ]
  },
  {
   "cell_type": "code",
   "execution_count": 41,
   "metadata": {},
   "outputs": [
    {
     "data": {
      "text/plain": [
       "43"
      ]
     },
     "execution_count": 41,
     "metadata": {},
     "output_type": "execute_result"
    }
   ],
   "source": [
    "(arr > 0).sum()"
   ]
  },
  {
   "cell_type": "markdown",
   "metadata": {},
   "source": [
    "Existem dois métodos adicionais, todos e quaisquer, úteis especialmente para matrizes booleanas.\n",
    "testa se um ou mais valores em uma matriz são True, enquanto todos verifica se todos os\n",
    "o valor é True:"
   ]
  },
  {
   "cell_type": "code",
   "execution_count": 42,
   "metadata": {},
   "outputs": [],
   "source": [
    "bools =np.array([False,False,True,False])"
   ]
  },
  {
   "cell_type": "code",
   "execution_count": 43,
   "metadata": {},
   "outputs": [
    {
     "data": {
      "text/plain": [
       "True"
      ]
     },
     "execution_count": 43,
     "metadata": {},
     "output_type": "execute_result"
    }
   ],
   "source": [
    "bools.any()"
   ]
  },
  {
   "cell_type": "code",
   "execution_count": 44,
   "metadata": {},
   "outputs": [
    {
     "data": {
      "text/plain": [
       "False"
      ]
     },
     "execution_count": 44,
     "metadata": {},
     "output_type": "execute_result"
    }
   ],
   "source": [
    "bools.all()"
   ]
  },
  {
   "cell_type": "markdown",
   "metadata": {},
   "source": [
    "Esses métodos também funcionam com matrizes não booleanas, onde elementos diferentes de zero avaliam\n",
    "para True.\n",
    "## Ordenação\n",
    "Como o tipo de lista interno do Python, as matrizes NumPy podem ser classificadas no local com a classificação\n",
    "método:"
   ]
  },
  {
   "cell_type": "code",
   "execution_count": 45,
   "metadata": {},
   "outputs": [],
   "source": [
    "arr = np.random.randn(6)"
   ]
  },
  {
   "cell_type": "code",
   "execution_count": 46,
   "metadata": {},
   "outputs": [
    {
     "data": {
      "text/plain": [
       "array([-0.29071622, -0.75828673,  1.22139028, -0.85040962,  1.40156025,\n",
       "        0.95080859])"
      ]
     },
     "execution_count": 46,
     "metadata": {},
     "output_type": "execute_result"
    }
   ],
   "source": [
    "arr"
   ]
  },
  {
   "cell_type": "code",
   "execution_count": 47,
   "metadata": {},
   "outputs": [],
   "source": [
    "arr.sort()"
   ]
  },
  {
   "cell_type": "code",
   "execution_count": 48,
   "metadata": {},
   "outputs": [
    {
     "data": {
      "text/plain": [
       "array([-0.85040962, -0.75828673, -0.29071622,  0.95080859,  1.22139028,\n",
       "        1.40156025])"
      ]
     },
     "execution_count": 48,
     "metadata": {},
     "output_type": "execute_result"
    }
   ],
   "source": [
    "arr"
   ]
  },
  {
   "cell_type": "markdown",
   "metadata": {},
   "source": [
    "Você pode classificar cada seção unidimensional de valores em uma matriz multidimensional no local\n",
    "ao longo de um eixo, passando o número do eixo para classificar:"
   ]
  },
  {
   "cell_type": "code",
   "execution_count": 49,
   "metadata": {},
   "outputs": [
    {
     "data": {
      "text/plain": [
       "array([[-0.02482782,  0.12805403, -0.72162686],\n",
       "       [-0.66680467, -1.29504475,  0.60370897],\n",
       "       [ 0.34001474, -2.84806676, -0.98989258],\n",
       "       [-1.53961001, -0.62161255, -0.8810791 ],\n",
       "       [ 0.69964365, -0.53067378,  0.51685222]])"
      ]
     },
     "execution_count": 49,
     "metadata": {},
     "output_type": "execute_result"
    }
   ],
   "source": [
    "arr = np.random.randn(5,3)\n",
    "arr"
   ]
  },
  {
   "cell_type": "code",
   "execution_count": 50,
   "metadata": {},
   "outputs": [],
   "source": [
    "arr.sort(1)"
   ]
  },
  {
   "cell_type": "code",
   "execution_count": 51,
   "metadata": {},
   "outputs": [
    {
     "data": {
      "text/plain": [
       "array([[-0.72162686, -0.02482782,  0.12805403],\n",
       "       [-1.29504475, -0.66680467,  0.60370897],\n",
       "       [-2.84806676, -0.98989258,  0.34001474],\n",
       "       [-1.53961001, -0.8810791 , -0.62161255],\n",
       "       [-0.53067378,  0.51685222,  0.69964365]])"
      ]
     },
     "execution_count": 51,
     "metadata": {},
     "output_type": "execute_result"
    }
   ],
   "source": [
    "arr"
   ]
  },
  {
   "cell_type": "markdown",
   "metadata": {},
   "source": [
    "O método de nível superior np.sort retorna uma cópia classificada de uma matriz em vez de modificar\n",
    "a matriz no local. Uma maneira rápida e suja de calcular os quantis de uma matriz é\n",
    "classifique-o e selecione o valor em uma classificação específica:"
   ]
  },
  {
   "cell_type": "code",
   "execution_count": 58,
   "metadata": {},
   "outputs": [],
   "source": [
    "lange_arr = np.random.randn(1000)\n",
    "lange_arr.sort()"
   ]
  },
  {
   "cell_type": "code",
   "execution_count": 60,
   "metadata": {},
   "outputs": [
    {
     "data": {
      "text/plain": [
       "-1.717985170813899"
      ]
     },
     "execution_count": 60,
     "metadata": {},
     "output_type": "execute_result"
    }
   ],
   "source": [
    "lange_arr[int(0.05 * len(lange_arr))]"
   ]
  },
  {
   "cell_type": "markdown",
   "metadata": {},
   "source": [
    "Para mais detalhes sobre o uso dos métodos de classificação do NumPy e técnicas mais avançadas\n",
    "como tipos indiretos, consulte o Apêndice A. Vários outros tipos de manipulação de dados relacionados\n",
    "para classificar (por exemplo, classificar uma tabela de dados por uma ou mais colunas) também pode ser encontrado em\n",
    "pandas.\n",
    "\n",
    "## Lógica de conjunto único e outro\n",
    "O NumPy possui algumas operações básicas de conjunto para ndarrays unidimensionais. Um comum\n",
    "o usado é np.unique, que retorna os valores exclusivos classificados em uma matriz"
   ]
  },
  {
   "cell_type": "code",
   "execution_count": 3,
   "metadata": {},
   "outputs": [],
   "source": [
    "names = np.array(['Bob','Joe','Will','Bob','Will','Joe','Joe'])"
   ]
  },
  {
   "cell_type": "code",
   "execution_count": 4,
   "metadata": {},
   "outputs": [
    {
     "data": {
      "text/plain": [
       "array(['Bob', 'Joe', 'Will', 'Bob', 'Will', 'Joe', 'Joe'], dtype='<U4')"
      ]
     },
     "execution_count": 4,
     "metadata": {},
     "output_type": "execute_result"
    }
   ],
   "source": [
    "names"
   ]
  },
  {
   "cell_type": "code",
   "execution_count": 5,
   "metadata": {},
   "outputs": [
    {
     "data": {
      "text/plain": [
       "array(['Bob', 'Joe', 'Will'], dtype='<U4')"
      ]
     },
     "execution_count": 5,
     "metadata": {},
     "output_type": "execute_result"
    }
   ],
   "source": [
    "np.unique(names)"
   ]
  },
  {
   "cell_type": "code",
   "execution_count": 7,
   "metadata": {},
   "outputs": [],
   "source": [
    "ints = np.array([3, 3, 3, 2, 2, 1, 1, 4, 4])"
   ]
  },
  {
   "cell_type": "code",
   "execution_count": 10,
   "metadata": {},
   "outputs": [
    {
     "data": {
      "text/plain": [
       "array([1, 2, 3, 4])"
      ]
     },
     "execution_count": 10,
     "metadata": {},
     "output_type": "execute_result"
    }
   ],
   "source": [
    "np.unique(ints)"
   ]
  },
  {
   "cell_type": "code",
   "execution_count": 11,
   "metadata": {},
   "outputs": [
    {
     "data": {
      "text/plain": [
       "['Bob', 'Joe', 'Will']"
      ]
     },
     "execution_count": 11,
     "metadata": {},
     "output_type": "execute_result"
    }
   ],
   "source": [
    "sorted(set(names))"
   ]
  },
  {
   "cell_type": "code",
   "execution_count": 12,
   "metadata": {},
   "outputs": [],
   "source": [
    "values = np.array([6, 0, 0, 3, 2, 5, 6])"
   ]
  },
  {
   "cell_type": "code",
   "execution_count": 13,
   "metadata": {},
   "outputs": [
    {
     "data": {
      "text/plain": [
       "array([ True, False, False,  True,  True, False,  True])"
      ]
     },
     "execution_count": 13,
     "metadata": {},
     "output_type": "execute_result"
    }
   ],
   "source": [
    "np.in1d(values,[2,3,6])"
   ]
  },
  {
   "cell_type": "markdown",
   "metadata": {},
   "source": [
    "## Entrada e saída de arquivo com matrizes\n",
    "O NumPy é capaz de salvar e carregar dados de e para o disco, tanto em texto quanto em formato binário.\n",
    "Nesta seção, discuto apenas o formato binário interno do NumPy, pois a maioria dos usuários\n",
    "prefira pandas e outras ferramentas para carregar texto ou dados tabulares (consulte o Capítulo 6 para obter mais informações).\n",
    "Mais).\n",
    "\n",
    "np.save e np.load são as duas funções do cavalo de batalha para salvar e carregar com eficiência\n",
    "dados da matriz no disco. Matrizes são salvas por padrão em um binário bruto não compactado\n",
    "formato com extensão de arquivo .npy:"
   ]
  },
  {
   "cell_type": "code",
   "execution_count": 14,
   "metadata": {},
   "outputs": [],
   "source": [
    "arr = np.arange(10)"
   ]
  },
  {
   "cell_type": "code",
   "execution_count": 15,
   "metadata": {},
   "outputs": [
    {
     "data": {
      "text/plain": [
       "array([0, 1, 2, 3, 4, 5, 6, 7, 8, 9])"
      ]
     },
     "execution_count": 15,
     "metadata": {},
     "output_type": "execute_result"
    }
   ],
   "source": [
    "arr"
   ]
  },
  {
   "cell_type": "code",
   "execution_count": 16,
   "metadata": {},
   "outputs": [],
   "source": [
    "np.save('some_array',arr)"
   ]
  },
  {
   "cell_type": "markdown",
   "metadata": {},
   "source": [
    "Se o caminho do arquivo ainda não terminar em .npy, a extensão será anexada. A matriz\n",
    "no disco pode ser carregado com o np.load:"
   ]
  },
  {
   "cell_type": "code",
   "execution_count": 17,
   "metadata": {},
   "outputs": [
    {
     "data": {
      "text/plain": [
       "array([0, 1, 2, 3, 4, 5, 6, 7, 8, 9])"
      ]
     },
     "execution_count": 17,
     "metadata": {},
     "output_type": "execute_result"
    }
   ],
   "source": [
    "np.load('some_array.npy')"
   ]
  },
  {
   "cell_type": "markdown",
   "metadata": {},
   "source": [
    "## Álgebra Linear\n",
    "Álgebra linear, como multiplicação de matrizes, decomposições, determinantes e outras\n",
    "matemática de matriz quadrada, é uma parte importante de qualquer biblioteca de matrizes. Diferente de alguns idiomas\n",
    "como o MATLAB, multiplicar duas matrizes bidimensionais com * é um elemento\n",
    "produto em vez de um produto matricial. Assim, existe um ponto de função, tanto um array\n",
    "método e uma função no namespace numpy, para multiplicação de matrizes:"
   ]
  },
  {
   "cell_type": "code",
   "execution_count": 18,
   "metadata": {},
   "outputs": [],
   "source": [
    "x = np.array([[1.,2.,3.],[4.,5.,6.]])\n",
    "y = np.array([[6.,23.],[-1,7],[8,9]])"
   ]
  },
  {
   "cell_type": "code",
   "execution_count": 19,
   "metadata": {},
   "outputs": [
    {
     "data": {
      "text/plain": [
       "array([[1., 2., 3.],\n",
       "       [4., 5., 6.]])"
      ]
     },
     "execution_count": 19,
     "metadata": {},
     "output_type": "execute_result"
    }
   ],
   "source": [
    "x"
   ]
  },
  {
   "cell_type": "code",
   "execution_count": 20,
   "metadata": {},
   "outputs": [
    {
     "data": {
      "text/plain": [
       "array([[ 6., 23.],\n",
       "       [-1.,  7.],\n",
       "       [ 8.,  9.]])"
      ]
     },
     "execution_count": 20,
     "metadata": {},
     "output_type": "execute_result"
    }
   ],
   "source": [
    "y"
   ]
  },
  {
   "cell_type": "code",
   "execution_count": 21,
   "metadata": {},
   "outputs": [
    {
     "data": {
      "text/plain": [
       "array([[ 28.,  64.],\n",
       "       [ 67., 181.]])"
      ]
     },
     "execution_count": 21,
     "metadata": {},
     "output_type": "execute_result"
    }
   ],
   "source": [
    "x.dot(y)"
   ]
  },
  {
   "cell_type": "markdown",
   "metadata": {},
   "source": [
    "x.dot (y) é equivalente a np.dot (x, y):"
   ]
  },
  {
   "cell_type": "code",
   "execution_count": 22,
   "metadata": {},
   "outputs": [
    {
     "data": {
      "text/plain": [
       "array([[ 28.,  64.],\n",
       "       [ 67., 181.]])"
      ]
     },
     "execution_count": 22,
     "metadata": {},
     "output_type": "execute_result"
    }
   ],
   "source": [
    "np.dot(x,y)"
   ]
  },
  {
   "cell_type": "markdown",
   "metadata": {},
   "source": [
    "Um produto de matriz entre uma matriz bidimensional e uma matriz unidimensional de tamanho adequado resulta em uma matriz unidimensional:"
   ]
  },
  {
   "cell_type": "code",
   "execution_count": 23,
   "metadata": {},
   "outputs": [
    {
     "data": {
      "text/plain": [
       "array([ 6., 15.])"
      ]
     },
     "execution_count": 23,
     "metadata": {},
     "output_type": "execute_result"
    }
   ],
   "source": [
    "np.dot(x,np.ones(3))"
   ]
  },
  {
   "cell_type": "markdown",
   "metadata": {},
   "source": [
    "numpy.linalg possui um conjunto padrão de decomposições de matrizes e coisas como inversa\n",
    "e determinante. Eles são implementados sob o capô por meio das mesmas bibliotecas de álgebra linear padrão da indústria usadas em outros idiomas como MATLAB e R, como\n",
    "BLAS, LAPACK ou, possivelmente (dependendo da versão do NumPy), a Intel proprietária\n",
    "MKL (Biblioteca do Kernel de Matemática):"
   ]
  },
  {
   "cell_type": "code",
   "execution_count": 25,
   "metadata": {},
   "outputs": [],
   "source": [
    "from numpy.linalg import inv,qr"
   ]
  },
  {
   "cell_type": "code",
   "execution_count": 26,
   "metadata": {},
   "outputs": [],
   "source": [
    "x = np.random.randn(5,5)"
   ]
  },
  {
   "cell_type": "code",
   "execution_count": 27,
   "metadata": {},
   "outputs": [],
   "source": [
    "mat = x.T.dot(x)"
   ]
  },
  {
   "cell_type": "code",
   "execution_count": 28,
   "metadata": {},
   "outputs": [
    {
     "data": {
      "text/plain": [
       "array([[ 2.70169644, -2.35483885, -1.43775931, -3.3452292 ,  2.60374272],\n",
       "       [-2.35483885,  3.03311124,  1.37738375,  1.83124786, -2.25377592],\n",
       "       [-1.43775931,  1.37738375,  6.75844243,  2.07453538, -0.7704865 ],\n",
       "       [-3.3452292 ,  1.83124786,  2.07453538,  5.73337694, -2.26803518],\n",
       "       [ 2.60374272, -2.25377592, -0.7704865 , -2.26803518,  5.02548931]])"
      ]
     },
     "execution_count": 28,
     "metadata": {},
     "output_type": "execute_result"
    }
   ],
   "source": [
    "mat"
   ]
  },
  {
   "cell_type": "code",
   "execution_count": 29,
   "metadata": {},
   "outputs": [
    {
     "data": {
      "text/plain": [
       "array([[ 7.35073111e+02,  3.20906110e+02, -9.45386304e+00,\n",
       "         2.86697656e+02, -1.08991277e+02],\n",
       "       [ 3.20906110e+02,  1.40653904e+02, -4.19533261e+00,\n",
       "         1.25090264e+02, -4.73740721e+01],\n",
       "       [-9.45386304e+00, -4.19533261e+00,  2.96370548e-01,\n",
       "        -3.73956077e+00,  1.37438985e+00],\n",
       "       [ 2.86697656e+02,  1.25090264e+02, -3.73956077e+00,\n",
       "         1.12063409e+02, -4.24394569e+01],\n",
       "       [-1.08991277e+02, -4.73740721e+01,  1.37438985e+00,\n",
       "        -4.24394569e+01,  1.64798814e+01]])"
      ]
     },
     "execution_count": 29,
     "metadata": {},
     "output_type": "execute_result"
    }
   ],
   "source": [
    "inv(mat)"
   ]
  },
  {
   "cell_type": "markdown",
   "metadata": {},
   "source": [
    "# Conclusão\n",
    "Embora grande parte do restante do livro se concentre na construção de habilidades de organização de dados com\n",
    "pandas, continuaremos trabalhando em um estilo semelhante baseado em array. No Apêndice A, nós\n",
    "aprofundará os recursos do NumPy para ajudá-lo a desenvolver ainda mais o seu array\n",
    "habilidades."
   ]
  },
  {
   "cell_type": "code",
   "execution_count": null,
   "metadata": {},
   "outputs": [],
   "source": []
  }
 ],
 "metadata": {
  "kernelspec": {
   "display_name": "Python 3",
   "language": "python",
   "name": "python3"
  },
  "language_info": {
   "codemirror_mode": {
    "name": "ipython",
    "version": 3
   },
   "file_extension": ".py",
   "mimetype": "text/x-python",
   "name": "python",
   "nbconvert_exporter": "python",
   "pygments_lexer": "ipython3",
   "version": "3.7.1"
  }
 },
 "nbformat": 4,
 "nbformat_minor": 2
}
