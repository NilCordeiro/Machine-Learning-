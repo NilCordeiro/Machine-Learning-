{
 "cells": [
  {
   "cell_type": "markdown",
   "metadata": {},
   "source": [
    "<h1>Tradução do livro - Python Para Análise de Dados</h1>"
   ]
  },
  {
   "cell_type": "code",
   "execution_count": 4,
   "metadata": {},
   "outputs": [],
   "source": [
    "from IPython.display import Image"
   ]
  },
  {
   "cell_type": "markdown",
   "metadata": {},
   "source": [
    "<h2> Noções básicas do NumPy: matrizes e Computação Vectorizada</h2>"
   ]
  },
  {
   "cell_type": "markdown",
   "metadata": {},
   "source": [
    "<p>\n",
    "NumPy, abreviação de Python Numérico, é um dos pacotes fundamentais mais importantes\n",
    "para computação numérica em Python. A maioria dos pacotes computacionais que fornecem\n",
    "funcionalidade científica usa os objetos de array do NumPy como a língua franca para dados\n",
    "troca.\n",
    "\n",
    "Aqui estão algumas das coisas que você encontrará no NumPy:\n",
    "\n",
    "• ndarray, um array multidimensional eficiente que fornece aritmética rápida orientada a array\n",
    "operações e recursos flexíveis de transmissão.\n",
    "\n",
    "• Funções matemáticas para operações rápidas em matrizes inteiras de dados sem ter que\n",
    "para escrever loops.\n",
    "\n",
    "• Ferramentas para leitura / gravação de dados de matriz em disco e trabalho com mapeamento de memória\n",
    "arquivos.\n",
    "\n",
    "• Álgebra linear, geração de números aleatórios e recursos de transformação de Fourier.\n",
    "\n",
    "• Uma API C para conectar o NumPy a bibliotecas escritas em C, C ++ ou FORTRAN.\n",
    "\n",
    "Como o NumPy fornece uma API C fácil de usar, é fácil passar dados para\n",
    "bibliotecas externas escritas em uma linguagem de baixo nível e também para bibliotecas externas\n",
    "retornar dados para Python como matrizes NumPy. Esse recurso fez do Python uma linguagem de\n",
    "escolha para agrupar as bases de código C / C ++ / Fortran herdadas e fornecer a elas uma dinâmica e\n",
    "interface fácil de usar.\n",
    "\n",
    "Embora o NumPy por si só não forneça modelagem ou funcionalidade científica, ter\n",
    "uma compreensão das matrizes NumPy e da computação orientada a matrizes ajudará você a usar\n",
    "ferramentas com semântica orientada a array, como pandas, com muito mais eficiência. Desde a\n",
    "</P>    "
   ]
  },
  {
   "cell_type": "markdown",
   "metadata": {},
   "source": [
    "\n",
    "NumPy é um tópico amplo, abordarei muitos recursos avançados do NumPy, como transmissão\n",
    "mais profundamente mais tarde (consulte o Apêndice A).\n",
    "\n",
    "Para a maioria dos aplicativos de análise de dados, as principais áreas de funcionalidade em que vou me concentrar são:\n",
    "    \n",
    "• Operações de matriz vetorizadas rápidas para remoção e limpeza de dados, subconjunto e\n",
    "filtragem, transformação e qualquer outro tipo de cálculo\n",
    "\n",
    "• Algoritmos comuns de matriz, como operações de classificação, únicas e definidas\n",
    "\n",
    "• Estatísticas descritivas eficientes e agregação / resumo de dados\n",
    "\n",
    "• Alinhamento de dados e manipulação de dados relacionais para mesclar e unir\n",
    "conjuntos de dados heterogêneos\n",
    "\n",
    "• Expressando lógica condicional como expressões de matriz em vez de loops com if-elifelse\n",
    "galhos\n",
    "\n",
    "• Manipulações de dados em grupo (agregação, transformação, aplicação de funções)\n",
    "Enquanto o NumPy fornece uma base computacional para o processamento numérico geral de dados,\n",
    "muitos leitores vão querer usar os pandas como base para a maioria dos tipos de estatísticas\n",
    "ou análises, especialmente em dados tabulares. \n",
    "\n",
    "pandas também fornece alguns domínios mais específicos\n",
    "funcionalidade como manipulação de séries temporais, que não está presente no NumPy.\n",
    "\n",
    "Uma das razões pelas quais o NumPy é tão importante para cálculos numéricos no Python é\n",
    "porque foi desenvolvido para oferecer eficiência em grandes matrizes de dados. Há um número de\n",
    "razões para isso:\n",
    "\n",
    "• O NumPy armazena dados internamente em um bloco de memória contíguo, independentemente de\n",
    "outros objetos Python internos. Biblioteca de algoritmos de NumPy escritos na linguagem C\n",
    "pode operar nesta memória sem nenhuma verificação de tipo ou outra sobrecarga.\n",
    "As matrizes NumPy também usam muito menos memória que as seqüências Python internas.\n",
    "\n",
    "• As operações NumPy executam cálculos complexos em matrizes inteiras sem o\n",
    "necessidade de Python para loops."
   ]
  },
  {
   "cell_type": "markdown",
   "metadata": {},
   "source": [
    "#### No outro notebook partiremos para a pratica no numpy"
   ]
  }
 ],
 "metadata": {
  "kernelspec": {
   "display_name": "Python 3",
   "language": "python",
   "name": "python3"
  },
  "language_info": {
   "codemirror_mode": {
    "name": "ipython",
    "version": 3
   },
   "file_extension": ".py",
   "mimetype": "text/x-python",
   "name": "python",
   "nbconvert_exporter": "python",
   "pygments_lexer": "ipython3",
   "version": "3.7.1"
  }
 },
 "nbformat": 4,
 "nbformat_minor": 2
}
